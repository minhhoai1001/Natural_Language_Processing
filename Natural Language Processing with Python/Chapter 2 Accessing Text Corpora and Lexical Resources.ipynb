{
 "cells": [
  {
   "cell_type": "markdown",
   "metadata": {},
   "source": [
    "# Chapter 2: Accessing Text Corpora and Lexical Resources\n",
    "\n",
    "Practical work in Natural Language Processing typically uses large bodies of linguistic\n",
    "data, or **corpora**. The goal of this chapter is to answer the following questions:\n",
    "1. What are some useful text corpora and lexical resources, and how can we access them with Python?\n",
    "2. Which Python constructs are most helpful for this work?\n",
    "3. How do we avoid repeating ourselves when writing Python code?\n",
    "\n",
    "This chapter continues to present programming concepts by example, in the context\n",
    "of a linguistic processing task. We will wait until later before exploring each Python\n",
    "construct systematically. Don’t worry if you see an example that contains something\n",
    "unfamiliar; simply try it out and see what it does, and—if you’re game—modify it by\n",
    "substituting some part of the code with a different text or word. This way you will\n",
    "associate a task with a programming idiom, and learn the hows and whys later."
   ]
  },
  {
   "cell_type": "markdown",
   "metadata": {},
   "source": [
    "## 2.1 Accessing Text Corpora\n",
    "As just mentioned, a text corpus is a large body of text. Many corpora are designed to\n",
    "contain a careful balance of material in one or more genres. We examined some small\n",
    "text collections in Chapter 1, such as the speeches known as the US Presidential Inaugural Addresses. This particular corpus actually contains dozens of individual texts—\n",
    "one per address—but for convenience we glued them end-to-end and treated them as\n",
    "a single text. Chapter 1 also used various predefined texts that we accessed by typing\n",
    "`from book import *`. However, since we want to be able to work with other texts, this\n",
    "section examines a variety of text corpora. We’ll see how to select individual texts, and\n",
    "how to work with them."
   ]
  },
  {
   "cell_type": "markdown",
   "metadata": {},
   "source": [
    "**Gutenberg Corpus**\n",
    "\n",
    "NLTK includes a small selection of texts from the Project Gutenberg electronic text\n",
    "archive, which contains some 25,000 free electronic books, hosted at http://www.gu\n",
    "tenberg.org/. We begin by getting the Python interpreter to load the NLTK package,\n",
    "then ask to see `nltk.corpus.gutenberg.fileids()`, the file identifiers in this corpus:"
   ]
  },
  {
   "cell_type": "code",
   "execution_count": 4,
   "metadata": {},
   "outputs": [
    {
     "data": {
      "text/plain": [
       "['austen-emma.txt',\n",
       " 'austen-persuasion.txt',\n",
       " 'austen-sense.txt',\n",
       " 'bible-kjv.txt',\n",
       " 'blake-poems.txt',\n",
       " 'bryant-stories.txt',\n",
       " 'burgess-busterbrown.txt',\n",
       " 'carroll-alice.txt',\n",
       " 'chesterton-ball.txt',\n",
       " 'chesterton-brown.txt',\n",
       " 'chesterton-thursday.txt',\n",
       " 'edgeworth-parents.txt',\n",
       " 'melville-moby_dick.txt',\n",
       " 'milton-paradise.txt',\n",
       " 'shakespeare-caesar.txt',\n",
       " 'shakespeare-hamlet.txt',\n",
       " 'shakespeare-macbeth.txt',\n",
       " 'whitman-leaves.txt']"
      ]
     },
     "execution_count": 4,
     "metadata": {},
     "output_type": "execute_result"
    }
   ],
   "source": [
    "import nltk\n",
    "nltk.corpus.gutenberg.fileids()"
   ]
  },
  {
   "cell_type": "markdown",
   "metadata": {},
   "source": [
    "Let’s pick out the first of these texts—Emma by Jane Austen—and give it a short name,\n",
    "`emma`, then find out how many words it contains:"
   ]
  },
  {
   "cell_type": "code",
   "execution_count": 2,
   "metadata": {},
   "outputs": [
    {
     "data": {
      "text/plain": [
       "192427"
      ]
     },
     "execution_count": 2,
     "metadata": {},
     "output_type": "execute_result"
    }
   ],
   "source": [
    "emma = nltk.corpus.gutenberg.words('austen-emma.txt')\n",
    "len(emma)"
   ]
  },
  {
   "cell_type": "markdown",
   "metadata": {},
   "source": [
    "When we defined `emma`, we invoked the `words()` function of the `gutenberg` object in\n",
    "NLTK’s corpus package. But since it is cumbersome to type such long names all the\n",
    "time, Python provides another version of the import statement, as follows:"
   ]
  },
  {
   "cell_type": "code",
   "execution_count": 3,
   "metadata": {},
   "outputs": [
    {
     "data": {
      "text/plain": [
       "['austen-emma.txt',\n",
       " 'austen-persuasion.txt',\n",
       " 'austen-sense.txt',\n",
       " 'bible-kjv.txt',\n",
       " 'blake-poems.txt',\n",
       " 'bryant-stories.txt',\n",
       " 'burgess-busterbrown.txt',\n",
       " 'carroll-alice.txt',\n",
       " 'chesterton-ball.txt',\n",
       " 'chesterton-brown.txt',\n",
       " 'chesterton-thursday.txt',\n",
       " 'edgeworth-parents.txt',\n",
       " 'melville-moby_dick.txt',\n",
       " 'milton-paradise.txt',\n",
       " 'shakespeare-caesar.txt',\n",
       " 'shakespeare-hamlet.txt',\n",
       " 'shakespeare-macbeth.txt',\n",
       " 'whitman-leaves.txt']"
      ]
     },
     "execution_count": 3,
     "metadata": {},
     "output_type": "execute_result"
    }
   ],
   "source": [
    "from nltk.corpus import gutenberg\n",
    "gutenberg.fileids()"
   ]
  },
  {
   "cell_type": "code",
   "execution_count": 4,
   "metadata": {},
   "outputs": [],
   "source": [
    "emma = gutenberg.words('austen-emma.txt')"
   ]
  },
  {
   "cell_type": "markdown",
   "metadata": {},
   "source": [
    "Let’s write a short program to display other information about each text, by looping\n",
    "over all the values of `fileid` corresponding to the `gutenberg` file identifiers listed earlier\n",
    "and then computing statistics for each text. For a compact output display, we will make\n",
    "sure that the numbers are all integers, using `int()`."
   ]
  },
  {
   "cell_type": "code",
   "execution_count": 5,
   "metadata": {},
   "outputs": [
    {
     "name": "stdout",
     "output_type": "stream",
     "text": [
      "4 24 26 austen-emma.txt\n",
      "4 26 16 austen-persuasion.txt\n",
      "4 28 22 austen-sense.txt\n",
      "4 33 79 bible-kjv.txt\n",
      "4 19 5 blake-poems.txt\n",
      "4 19 14 bryant-stories.txt\n",
      "4 17 12 burgess-busterbrown.txt\n",
      "4 20 12 carroll-alice.txt\n",
      "4 20 11 chesterton-ball.txt\n",
      "4 22 11 chesterton-brown.txt\n",
      "4 18 10 chesterton-thursday.txt\n",
      "4 20 24 edgeworth-parents.txt\n",
      "4 25 15 melville-moby_dick.txt\n",
      "4 52 10 milton-paradise.txt\n",
      "4 11 8 shakespeare-caesar.txt\n",
      "4 12 7 shakespeare-hamlet.txt\n",
      "4 12 6 shakespeare-macbeth.txt\n",
      "4 36 12 whitman-leaves.txt\n"
     ]
    }
   ],
   "source": [
    "for fileid in gutenberg.fileids():\n",
    "    num_chars = len(gutenberg.raw(fileid))\n",
    "    num_words = len(gutenberg.words(fileid))\n",
    "    num_sents = len(gutenberg.sents(fileid))\n",
    "    num_vocab = len(set([w.lower() for w in gutenberg.words(fileid)]))\n",
    "    print(int(num_chars/num_words), int(num_words/num_sents), int(num_words/num_vocab), fileid)"
   ]
  },
  {
   "cell_type": "markdown",
   "metadata": {},
   "source": [
    "This program displays three statistics for each text: average word length, average sentence length, and the number of times each vocabulary item appears in the text on\n",
    "average (our lexical diversity score). Observe that average word length appears to be a\n",
    "general property of English, since it has a recurrent value of 4. (In fact, the average word\n",
    "length is really 3, not 4, since the `num_chars` variable counts space characters.) By contrast average sentence length and lexical diversity appear to be characteristics of particular authors.\n",
    "\n",
    "The previous example also showed how we can access the “raw” text of the book 1,\n",
    "not split up into tokens. The `raw()` function gives us the contents of the file without\n",
    "any linguistic processing. So, for example, `len(gutenberg.raw('blake-poems.txt')` tells\n",
    "us how many letters occur in the text, including the spaces between words. The\n",
    "sents() function divides the text up into its sentences, where each sentence is a list of\n",
    "words:"
   ]
  },
  {
   "cell_type": "code",
   "execution_count": 6,
   "metadata": {},
   "outputs": [
    {
     "data": {
      "text/plain": [
       "[['[', 'The', 'Tragedie', 'of', 'Macbeth', 'by', 'William', 'Shakespeare', '1603', ']'], ['Actus', 'Primus', '.'], ...]"
      ]
     },
     "execution_count": 6,
     "metadata": {},
     "output_type": "execute_result"
    }
   ],
   "source": [
    "macbeth_sentences = gutenberg.sents('shakespeare-macbeth.txt')\n",
    "macbeth_sentences"
   ]
  },
  {
   "cell_type": "code",
   "execution_count": 7,
   "metadata": {},
   "outputs": [
    {
     "data": {
      "text/plain": [
       "['Good', 'night', ',', 'and', 'better', 'health', 'Attend', 'his', 'Maiesty']"
      ]
     },
     "execution_count": 7,
     "metadata": {},
     "output_type": "execute_result"
    }
   ],
   "source": [
    "macbeth_sentences[1037]"
   ]
  },
  {
   "cell_type": "code",
   "execution_count": 8,
   "metadata": {},
   "outputs": [
    {
     "data": {
      "text/plain": [
       "[['Doubtfull',\n",
       "  'it',\n",
       "  'stood',\n",
       "  ',',\n",
       "  'As',\n",
       "  'two',\n",
       "  'spent',\n",
       "  'Swimmers',\n",
       "  ',',\n",
       "  'that',\n",
       "  'doe',\n",
       "  'cling',\n",
       "  'together',\n",
       "  ',',\n",
       "  'And',\n",
       "  'choake',\n",
       "  'their',\n",
       "  'Art',\n",
       "  ':',\n",
       "  'The',\n",
       "  'mercilesse',\n",
       "  'Macdonwald',\n",
       "  '(',\n",
       "  'Worthie',\n",
       "  'to',\n",
       "  'be',\n",
       "  'a',\n",
       "  'Rebell',\n",
       "  ',',\n",
       "  'for',\n",
       "  'to',\n",
       "  'that',\n",
       "  'The',\n",
       "  'multiplying',\n",
       "  'Villanies',\n",
       "  'of',\n",
       "  'Nature',\n",
       "  'Doe',\n",
       "  'swarme',\n",
       "  'vpon',\n",
       "  'him',\n",
       "  ')',\n",
       "  'from',\n",
       "  'the',\n",
       "  'Westerne',\n",
       "  'Isles',\n",
       "  'Of',\n",
       "  'Kernes',\n",
       "  'and',\n",
       "  'Gallowgrosses',\n",
       "  'is',\n",
       "  'supply',\n",
       "  \"'\",\n",
       "  'd',\n",
       "  ',',\n",
       "  'And',\n",
       "  'Fortune',\n",
       "  'on',\n",
       "  'his',\n",
       "  'damned',\n",
       "  'Quarry',\n",
       "  'smiling',\n",
       "  ',',\n",
       "  'Shew',\n",
       "  \"'\",\n",
       "  'd',\n",
       "  'like',\n",
       "  'a',\n",
       "  'Rebells',\n",
       "  'Whore',\n",
       "  ':',\n",
       "  'but',\n",
       "  'all',\n",
       "  \"'\",\n",
       "  's',\n",
       "  'too',\n",
       "  'weake',\n",
       "  ':',\n",
       "  'For',\n",
       "  'braue',\n",
       "  'Macbeth',\n",
       "  '(',\n",
       "  'well',\n",
       "  'hee',\n",
       "  'deserues',\n",
       "  'that',\n",
       "  'Name',\n",
       "  ')',\n",
       "  'Disdayning',\n",
       "  'Fortune',\n",
       "  ',',\n",
       "  'with',\n",
       "  'his',\n",
       "  'brandisht',\n",
       "  'Steele',\n",
       "  ',',\n",
       "  'Which',\n",
       "  'smoak',\n",
       "  \"'\",\n",
       "  'd',\n",
       "  'with',\n",
       "  'bloody',\n",
       "  'execution',\n",
       "  '(',\n",
       "  'Like',\n",
       "  'Valours',\n",
       "  'Minion',\n",
       "  ')',\n",
       "  'caru',\n",
       "  \"'\",\n",
       "  'd',\n",
       "  'out',\n",
       "  'his',\n",
       "  'passage',\n",
       "  ',',\n",
       "  'Till',\n",
       "  'hee',\n",
       "  'fac',\n",
       "  \"'\",\n",
       "  'd',\n",
       "  'the',\n",
       "  'Slaue',\n",
       "  ':',\n",
       "  'Which',\n",
       "  'neu',\n",
       "  \"'\",\n",
       "  'r',\n",
       "  'shooke',\n",
       "  'hands',\n",
       "  ',',\n",
       "  'nor',\n",
       "  'bad',\n",
       "  'farwell',\n",
       "  'to',\n",
       "  'him',\n",
       "  ',',\n",
       "  'Till',\n",
       "  'he',\n",
       "  'vnseam',\n",
       "  \"'\",\n",
       "  'd',\n",
       "  'him',\n",
       "  'from',\n",
       "  'the',\n",
       "  'Naue',\n",
       "  'toth',\n",
       "  \"'\",\n",
       "  'Chops',\n",
       "  ',',\n",
       "  'And',\n",
       "  'fix',\n",
       "  \"'\",\n",
       "  'd',\n",
       "  'his',\n",
       "  'Head',\n",
       "  'vpon',\n",
       "  'our',\n",
       "  'Battlements']]"
      ]
     },
     "execution_count": 8,
     "metadata": {},
     "output_type": "execute_result"
    }
   ],
   "source": [
    "longest_len = max([len(s) for s in macbeth_sentences])\n",
    "[s for s in macbeth_sentences if len(s) == longest_len]"
   ]
  },
  {
   "cell_type": "markdown",
   "metadata": {},
   "source": [
    "**Web and Chat Text**\n",
    "\n",
    "Although Project Gutenberg contains thousands of books, it represents established\n",
    "literature. It is important to consider less formal language as well. NLTK’s small collection of web text includes content from a Firefox discussion forum, conversations\n",
    "overheard in New York, the movie script of *Pirates of the Carribean*, personal advertisements, and wine reviews:"
   ]
  },
  {
   "cell_type": "code",
   "execution_count": 9,
   "metadata": {},
   "outputs": [
    {
     "name": "stdout",
     "output_type": "stream",
     "text": [
      "firefox.txt Cookie Manager: \"Don't allow sites that set removed cookies to se ...\n",
      "grail.txt SCENE 1: [wind] [clop clop clop] \n",
      "KING ARTHUR: Whoa there!  [clop ...\n",
      "overheard.txt White guy: So, do you have any plans for this evening?\n",
      "Asian girl ...\n",
      "pirates.txt PIRATES OF THE CARRIBEAN: DEAD MAN'S CHEST, by Ted Elliott & Terr ...\n",
      "singles.txt 25 SEXY MALE, seeks attrac older single lady, for discreet encoun ...\n",
      "wine.txt Lovely delicate, fragrant Rhone wine. Polished leather and strawb ...\n"
     ]
    }
   ],
   "source": [
    "from nltk.corpus import webtext\n",
    "for fileid in webtext.fileids():\n",
    "    print(fileid, webtext.raw(fileid)[:65], '...')"
   ]
  },
  {
   "cell_type": "markdown",
   "metadata": {},
   "source": [
    "**Brown Corpus**\n",
    "\n",
    "The Brown Corpus was the first million-word electronic corpus of English, created in\n",
    "1961 at Brown University. This corpus contains text from 500 sources, and the sources\n",
    "have been categorized by genre, such as news, editorial, and so on. Table 2-1 gives an\n",
    "example of each genre (for a complete list, see http://icame.uib.no/brown/bcm-los.html)."
   ]
  },
  {
   "cell_type": "markdown",
   "metadata": {},
   "source": [
    "We can access the corpus as a list of words or a list of sentences (where each sentence\n",
    "is itself just a list of words). We can optionally specify particular categories or files to\n",
    "read:"
   ]
  },
  {
   "cell_type": "code",
   "execution_count": 10,
   "metadata": {},
   "outputs": [
    {
     "data": {
      "text/plain": [
       "['adventure',\n",
       " 'belles_lettres',\n",
       " 'editorial',\n",
       " 'fiction',\n",
       " 'government',\n",
       " 'hobbies',\n",
       " 'humor',\n",
       " 'learned',\n",
       " 'lore',\n",
       " 'mystery',\n",
       " 'news',\n",
       " 'religion',\n",
       " 'reviews',\n",
       " 'romance',\n",
       " 'science_fiction']"
      ]
     },
     "execution_count": 10,
     "metadata": {},
     "output_type": "execute_result"
    }
   ],
   "source": [
    "from nltk.corpus import brown\n",
    "brown.categories()"
   ]
  },
  {
   "cell_type": "code",
   "execution_count": 11,
   "metadata": {},
   "outputs": [
    {
     "data": {
      "text/plain": [
       "['The', 'Fulton', 'County', 'Grand', 'Jury', 'said', ...]"
      ]
     },
     "execution_count": 11,
     "metadata": {},
     "output_type": "execute_result"
    }
   ],
   "source": [
    "brown.words(categories='news')"
   ]
  },
  {
   "cell_type": "code",
   "execution_count": 12,
   "metadata": {},
   "outputs": [
    {
     "data": {
      "text/plain": [
       "[['The', 'Fulton', 'County', 'Grand', 'Jury', 'said', 'Friday', 'an', 'investigation', 'of', \"Atlanta's\", 'recent', 'primary', 'election', 'produced', '``', 'no', 'evidence', \"''\", 'that', 'any', 'irregularities', 'took', 'place', '.'], ['The', 'jury', 'further', 'said', 'in', 'term-end', 'presentments', 'that', 'the', 'City', 'Executive', 'Committee', ',', 'which', 'had', 'over-all', 'charge', 'of', 'the', 'election', ',', '``', 'deserves', 'the', 'praise', 'and', 'thanks', 'of', 'the', 'City', 'of', 'Atlanta', \"''\", 'for', 'the', 'manner', 'in', 'which', 'the', 'election', 'was', 'conducted', '.'], ...]"
      ]
     },
     "execution_count": 12,
     "metadata": {},
     "output_type": "execute_result"
    }
   ],
   "source": [
    "brown.sents(categories=['news', 'editorial', 'reviews'])"
   ]
  },
  {
   "cell_type": "markdown",
   "metadata": {},
   "source": [
    "Next, we need to obtain counts for each genre of interest. We’ll use NLTK’s support\n",
    "for conditional frequency distributions. These are presented systematically in Section 2.2, where we also unpick the following code line by line. For the moment, you\n",
    "can ignore the details and just concentrate on the output."
   ]
  },
  {
   "cell_type": "code",
   "execution_count": 14,
   "metadata": {},
   "outputs": [
    {
     "name": "stdout",
     "output_type": "stream",
     "text": [
      "                  can could   may might  must  will \n",
      "           news    93    86    66    38    50   389 \n",
      "       religion    82    59    78    12    54    71 \n",
      "        hobbies   268    58   131    22    83   264 \n",
      "science_fiction    16    49     4    12     8    16 \n",
      "        romance    74   193    11    51    45    43 \n",
      "          humor    16    30     8     8     9    13 \n"
     ]
    }
   ],
   "source": [
    "cfd = nltk.ConditionalFreqDist(\n",
    "    (genre, word)\n",
    "    for genre in brown.categories()\n",
    "    for word in brown.words(categories=genre))\n",
    "\n",
    "genres = ['news', 'religion', 'hobbies', 'science_fiction', 'romance', 'humor']\n",
    "modals = ['can', 'could', 'may', 'might', 'must', 'will']\n",
    "cfd.tabulate(conditions=genres, samples=modals)"
   ]
  },
  {
   "cell_type": "markdown",
   "metadata": {},
   "source": [
    "**Reuters Corpus**\n",
    "\n",
    "The Reuters Corpus contains 10,788 news documents totaling 1.3 million words. The\n",
    "documents have been classified into 90 topics, and grouped into two sets, called “training” and “test”; thus, the text with fileid `'test/14826'` is a document drawn from the test set. This split is for training and testing algorithms that automatically detect the topic of a document, as we will see in Chapter 6."
   ]
  },
  {
   "cell_type": "code",
   "execution_count": 16,
   "metadata": {},
   "outputs": [
    {
     "data": {
      "text/plain": [
       "['acq',\n",
       " 'alum',\n",
       " 'barley',\n",
       " 'bop',\n",
       " 'carcass',\n",
       " 'castor-oil',\n",
       " 'cocoa',\n",
       " 'coconut',\n",
       " 'coconut-oil',\n",
       " 'coffee',\n",
       " 'copper',\n",
       " 'copra-cake',\n",
       " 'corn',\n",
       " 'cotton',\n",
       " 'cotton-oil',\n",
       " 'cpi',\n",
       " 'cpu',\n",
       " 'crude',\n",
       " 'dfl',\n",
       " 'dlr',\n",
       " 'dmk',\n",
       " 'earn',\n",
       " 'fuel',\n",
       " 'gas',\n",
       " 'gnp',\n",
       " 'gold',\n",
       " 'grain',\n",
       " 'groundnut',\n",
       " 'groundnut-oil',\n",
       " 'heat',\n",
       " 'hog',\n",
       " 'housing',\n",
       " 'income',\n",
       " 'instal-debt',\n",
       " 'interest',\n",
       " 'ipi',\n",
       " 'iron-steel',\n",
       " 'jet',\n",
       " 'jobs',\n",
       " 'l-cattle',\n",
       " 'lead',\n",
       " 'lei',\n",
       " 'lin-oil',\n",
       " 'livestock',\n",
       " 'lumber',\n",
       " 'meal-feed',\n",
       " 'money-fx',\n",
       " 'money-supply',\n",
       " 'naphtha',\n",
       " 'nat-gas',\n",
       " 'nickel',\n",
       " 'nkr',\n",
       " 'nzdlr',\n",
       " 'oat',\n",
       " 'oilseed',\n",
       " 'orange',\n",
       " 'palladium',\n",
       " 'palm-oil',\n",
       " 'palmkernel',\n",
       " 'pet-chem',\n",
       " 'platinum',\n",
       " 'potato',\n",
       " 'propane',\n",
       " 'rand',\n",
       " 'rape-oil',\n",
       " 'rapeseed',\n",
       " 'reserves',\n",
       " 'retail',\n",
       " 'rice',\n",
       " 'rubber',\n",
       " 'rye',\n",
       " 'ship',\n",
       " 'silver',\n",
       " 'sorghum',\n",
       " 'soy-meal',\n",
       " 'soy-oil',\n",
       " 'soybean',\n",
       " 'strategic-metal',\n",
       " 'sugar',\n",
       " 'sun-meal',\n",
       " 'sun-oil',\n",
       " 'sunseed',\n",
       " 'tea',\n",
       " 'tin',\n",
       " 'trade',\n",
       " 'veg-oil',\n",
       " 'wheat',\n",
       " 'wpi',\n",
       " 'yen',\n",
       " 'zinc']"
      ]
     },
     "execution_count": 16,
     "metadata": {},
     "output_type": "execute_result"
    }
   ],
   "source": [
    "from nltk.corpus import reuters\n",
    "\n",
    "reuters.fileids()\n",
    "reuters.categories()"
   ]
  },
  {
   "cell_type": "markdown",
   "metadata": {},
   "source": [
    "Unlike the Brown Corpus, categories in the Reuters Corpus overlap with each other,\n",
    "simply because a news story often covers multiple topics. We can ask for the topics covered by one or more documents, or for the documents included in one or more\n",
    "categories. For convenience, the corpus methods accept a single fileid or a list of fileids."
   ]
  },
  {
   "cell_type": "code",
   "execution_count": 17,
   "metadata": {},
   "outputs": [
    {
     "data": {
      "text/plain": [
       "['FRENCH',\n",
       " 'FREE',\n",
       " 'MARKET',\n",
       " 'CEREAL',\n",
       " 'EXPORT',\n",
       " 'BIDS',\n",
       " 'DETAILED',\n",
       " 'French',\n",
       " 'operators',\n",
       " 'have',\n",
       " 'requested',\n",
       " 'licences',\n",
       " 'to',\n",
       " 'export']"
      ]
     },
     "execution_count": 17,
     "metadata": {},
     "output_type": "execute_result"
    }
   ],
   "source": [
    "reuters.words('training/9865')[:14]"
   ]
  },
  {
   "cell_type": "code",
   "execution_count": 18,
   "metadata": {},
   "outputs": [
    {
     "data": {
      "text/plain": [
       "['barley', 'corn', 'grain', 'money-fx', 'wheat']"
      ]
     },
     "execution_count": 18,
     "metadata": {},
     "output_type": "execute_result"
    }
   ],
   "source": [
    "reuters.categories(['training/9865', 'training/9880'])"
   ]
  },
  {
   "cell_type": "code",
   "execution_count": 19,
   "metadata": {},
   "outputs": [
    {
     "data": {
      "text/plain": [
       "['test/15618',\n",
       " 'test/15649',\n",
       " 'test/15676',\n",
       " 'test/15728',\n",
       " 'test/15871',\n",
       " 'test/15875',\n",
       " 'test/15952',\n",
       " 'test/17767',\n",
       " 'test/17769',\n",
       " 'test/18024',\n",
       " 'test/18263',\n",
       " 'test/18908',\n",
       " 'test/19275',\n",
       " 'test/19668',\n",
       " 'training/10175',\n",
       " 'training/1067',\n",
       " 'training/11208',\n",
       " 'training/11316',\n",
       " 'training/11885',\n",
       " 'training/12428',\n",
       " 'training/13099',\n",
       " 'training/13744',\n",
       " 'training/13795',\n",
       " 'training/13852',\n",
       " 'training/13856',\n",
       " 'training/1652',\n",
       " 'training/1970',\n",
       " 'training/2044',\n",
       " 'training/2171',\n",
       " 'training/2172',\n",
       " 'training/2191',\n",
       " 'training/2217',\n",
       " 'training/2232',\n",
       " 'training/3132',\n",
       " 'training/3324',\n",
       " 'training/395',\n",
       " 'training/4280',\n",
       " 'training/4296',\n",
       " 'training/5',\n",
       " 'training/501',\n",
       " 'training/5467',\n",
       " 'training/5610',\n",
       " 'training/5640',\n",
       " 'training/6626',\n",
       " 'training/7205',\n",
       " 'training/7579',\n",
       " 'training/8213',\n",
       " 'training/8257',\n",
       " 'training/8759',\n",
       " 'training/9865',\n",
       " 'training/9958']"
      ]
     },
     "execution_count": 19,
     "metadata": {},
     "output_type": "execute_result"
    }
   ],
   "source": [
    "reuters.fileids('barley')"
   ]
  },
  {
   "cell_type": "code",
   "execution_count": 20,
   "metadata": {},
   "outputs": [
    {
     "data": {
      "text/plain": [
       "['test/14832',\n",
       " 'test/14858',\n",
       " 'test/15033',\n",
       " 'test/15043',\n",
       " 'test/15106',\n",
       " 'test/15287',\n",
       " 'test/15341',\n",
       " 'test/15618',\n",
       " 'test/15648',\n",
       " 'test/15649',\n",
       " 'test/15676',\n",
       " 'test/15686',\n",
       " 'test/15720',\n",
       " 'test/15728',\n",
       " 'test/15845',\n",
       " 'test/15856',\n",
       " 'test/15860',\n",
       " 'test/15863',\n",
       " 'test/15871',\n",
       " 'test/15875',\n",
       " 'test/15877',\n",
       " 'test/15890',\n",
       " 'test/15904',\n",
       " 'test/15906',\n",
       " 'test/15910',\n",
       " 'test/15911',\n",
       " 'test/15917',\n",
       " 'test/15952',\n",
       " 'test/15999',\n",
       " 'test/16012',\n",
       " 'test/16071',\n",
       " 'test/16099',\n",
       " 'test/16147',\n",
       " 'test/16525',\n",
       " 'test/16624',\n",
       " 'test/16751',\n",
       " 'test/16765',\n",
       " 'test/17503',\n",
       " 'test/17509',\n",
       " 'test/17722',\n",
       " 'test/17767',\n",
       " 'test/17769',\n",
       " 'test/18024',\n",
       " 'test/18035',\n",
       " 'test/18263',\n",
       " 'test/18482',\n",
       " 'test/18614',\n",
       " 'test/18908',\n",
       " 'test/18954',\n",
       " 'test/18973',\n",
       " 'test/19165',\n",
       " 'test/19275',\n",
       " 'test/19668',\n",
       " 'test/19721',\n",
       " 'test/19821',\n",
       " 'test/20018',\n",
       " 'test/20366',\n",
       " 'test/20637',\n",
       " 'test/20645',\n",
       " 'test/20649',\n",
       " 'test/20723',\n",
       " 'test/20763',\n",
       " 'test/21091',\n",
       " 'test/21243',\n",
       " 'test/21493',\n",
       " 'training/10120',\n",
       " 'training/10139',\n",
       " 'training/10172',\n",
       " 'training/10175',\n",
       " 'training/10319',\n",
       " 'training/10339',\n",
       " 'training/10487',\n",
       " 'training/10489',\n",
       " 'training/10519',\n",
       " 'training/1067',\n",
       " 'training/10701',\n",
       " 'training/10882',\n",
       " 'training/10956',\n",
       " 'training/11012',\n",
       " 'training/11085',\n",
       " 'training/11091',\n",
       " 'training/11208',\n",
       " 'training/11269',\n",
       " 'training/1131',\n",
       " 'training/11316',\n",
       " 'training/11392',\n",
       " 'training/11436',\n",
       " 'training/11607',\n",
       " 'training/11612',\n",
       " 'training/11729',\n",
       " 'training/11739',\n",
       " 'training/11769',\n",
       " 'training/11885',\n",
       " 'training/11936',\n",
       " 'training/11939',\n",
       " 'training/11964',\n",
       " 'training/12002',\n",
       " 'training/12052',\n",
       " 'training/12055',\n",
       " 'training/1215',\n",
       " 'training/12160',\n",
       " 'training/12311',\n",
       " 'training/12323',\n",
       " 'training/12372',\n",
       " 'training/12417',\n",
       " 'training/12428',\n",
       " 'training/12436',\n",
       " 'training/12500',\n",
       " 'training/12583',\n",
       " 'training/12587',\n",
       " 'training/1268',\n",
       " 'training/1273',\n",
       " 'training/12872',\n",
       " 'training/13099',\n",
       " 'training/13173',\n",
       " 'training/13179',\n",
       " 'training/1369',\n",
       " 'training/13744',\n",
       " 'training/13795',\n",
       " 'training/1385',\n",
       " 'training/13852',\n",
       " 'training/13856',\n",
       " 'training/1395',\n",
       " 'training/1399',\n",
       " 'training/14483',\n",
       " 'training/1582',\n",
       " 'training/1652',\n",
       " 'training/1777',\n",
       " 'training/1843',\n",
       " 'training/193',\n",
       " 'training/1952',\n",
       " 'training/197',\n",
       " 'training/1970',\n",
       " 'training/2044',\n",
       " 'training/2171',\n",
       " 'training/2172',\n",
       " 'training/2183',\n",
       " 'training/2191',\n",
       " 'training/2217',\n",
       " 'training/2232',\n",
       " 'training/2264',\n",
       " 'training/235',\n",
       " 'training/2382',\n",
       " 'training/2436',\n",
       " 'training/2456',\n",
       " 'training/2595',\n",
       " 'training/2599',\n",
       " 'training/2617',\n",
       " 'training/2727',\n",
       " 'training/2741',\n",
       " 'training/2749',\n",
       " 'training/2777',\n",
       " 'training/2848',\n",
       " 'training/2913',\n",
       " 'training/2922',\n",
       " 'training/2947',\n",
       " 'training/3132',\n",
       " 'training/3138',\n",
       " 'training/3191',\n",
       " 'training/327',\n",
       " 'training/3282',\n",
       " 'training/3299',\n",
       " 'training/3306',\n",
       " 'training/3324',\n",
       " 'training/3330',\n",
       " 'training/3337',\n",
       " 'training/3358',\n",
       " 'training/3401',\n",
       " 'training/3429',\n",
       " 'training/3847',\n",
       " 'training/3855',\n",
       " 'training/3881',\n",
       " 'training/3949',\n",
       " 'training/395',\n",
       " 'training/3979',\n",
       " 'training/3981',\n",
       " 'training/4047',\n",
       " 'training/4133',\n",
       " 'training/4280',\n",
       " 'training/4289',\n",
       " 'training/4296',\n",
       " 'training/4382',\n",
       " 'training/4490',\n",
       " 'training/4599',\n",
       " 'training/4825',\n",
       " 'training/4905',\n",
       " 'training/4939',\n",
       " 'training/4988',\n",
       " 'training/5',\n",
       " 'training/5003',\n",
       " 'training/501',\n",
       " 'training/5017',\n",
       " 'training/5033',\n",
       " 'training/5109',\n",
       " 'training/516',\n",
       " 'training/5185',\n",
       " 'training/5338',\n",
       " 'training/5467',\n",
       " 'training/5518',\n",
       " 'training/5531',\n",
       " 'training/5606',\n",
       " 'training/5610',\n",
       " 'training/5636',\n",
       " 'training/5637',\n",
       " 'training/5640',\n",
       " 'training/57',\n",
       " 'training/5847',\n",
       " 'training/5933',\n",
       " 'training/6',\n",
       " 'training/6142',\n",
       " 'training/6221',\n",
       " 'training/6236',\n",
       " 'training/6239',\n",
       " 'training/6259',\n",
       " 'training/6269',\n",
       " 'training/6386',\n",
       " 'training/6585',\n",
       " 'training/6588',\n",
       " 'training/6626',\n",
       " 'training/6735',\n",
       " 'training/6890',\n",
       " 'training/6897',\n",
       " 'training/694',\n",
       " 'training/7062',\n",
       " 'training/7205',\n",
       " 'training/7215',\n",
       " 'training/7336',\n",
       " 'training/7387',\n",
       " 'training/7389',\n",
       " 'training/7390',\n",
       " 'training/7395',\n",
       " 'training/7579',\n",
       " 'training/7700',\n",
       " 'training/7792',\n",
       " 'training/7917',\n",
       " 'training/7934',\n",
       " 'training/7943',\n",
       " 'training/8004',\n",
       " 'training/8140',\n",
       " 'training/8161',\n",
       " 'training/8166',\n",
       " 'training/8213',\n",
       " 'training/8257',\n",
       " 'training/8273',\n",
       " 'training/8400',\n",
       " 'training/8443',\n",
       " 'training/8446',\n",
       " 'training/8535',\n",
       " 'training/855',\n",
       " 'training/8759',\n",
       " 'training/8941',\n",
       " 'training/8983',\n",
       " 'training/8993',\n",
       " 'training/9058',\n",
       " 'training/9093',\n",
       " 'training/9094',\n",
       " 'training/934',\n",
       " 'training/9470',\n",
       " 'training/9521',\n",
       " 'training/9667',\n",
       " 'training/97',\n",
       " 'training/9865',\n",
       " 'training/9958',\n",
       " 'training/9989']"
      ]
     },
     "execution_count": 20,
     "metadata": {},
     "output_type": "execute_result"
    }
   ],
   "source": [
    "reuters.fileids(['barley', 'corn'])"
   ]
  },
  {
   "cell_type": "markdown",
   "metadata": {},
   "source": [
    "Similarly, we can specify the words or sentences we want in terms of files or categories.\n",
    "The first handful of words in each of these texts are the titles, which by convention are\n",
    "stored as uppercase"
   ]
  },
  {
   "cell_type": "code",
   "execution_count": 21,
   "metadata": {},
   "outputs": [
    {
     "data": {
      "text/plain": [
       "['FRENCH',\n",
       " 'FREE',\n",
       " 'MARKET',\n",
       " 'CEREAL',\n",
       " 'EXPORT',\n",
       " 'BIDS',\n",
       " 'DETAILED',\n",
       " 'French',\n",
       " 'operators',\n",
       " 'have',\n",
       " 'requested',\n",
       " 'licences',\n",
       " 'to',\n",
       " 'export']"
      ]
     },
     "execution_count": 21,
     "metadata": {},
     "output_type": "execute_result"
    }
   ],
   "source": [
    "reuters.words('training/9865')[:14]"
   ]
  },
  {
   "cell_type": "code",
   "execution_count": 22,
   "metadata": {},
   "outputs": [
    {
     "data": {
      "text/plain": [
       "['FRENCH', 'FREE', 'MARKET', 'CEREAL', 'EXPORT', ...]"
      ]
     },
     "execution_count": 22,
     "metadata": {},
     "output_type": "execute_result"
    }
   ],
   "source": [
    "reuters.words(['training/9865', 'training/9880'])"
   ]
  },
  {
   "cell_type": "markdown",
   "metadata": {},
   "source": [
    "**Inaugural Address Corpus**\n",
    "\n",
    "In Section 1.1, we looked at the Inaugural Address Corpus, but treated it as a single\n",
    "text. The graph in Figure 1-2 used “word offset” as one of the axes; this is the numerical\n",
    "index of the word in the corpus, counting from the first word of the first address.\n",
    "However, the corpus is actually a collection of 55 texts, one for each presidential address. An interesting property of this collection is its time dimension:"
   ]
  },
  {
   "cell_type": "code",
   "execution_count": 24,
   "metadata": {},
   "outputs": [
    {
     "data": {
      "text/plain": [
       "['1789',\n",
       " '1793',\n",
       " '1797',\n",
       " '1801',\n",
       " '1805',\n",
       " '1809',\n",
       " '1813',\n",
       " '1817',\n",
       " '1821',\n",
       " '1825',\n",
       " '1829',\n",
       " '1833',\n",
       " '1837',\n",
       " '1841',\n",
       " '1845',\n",
       " '1849',\n",
       " '1853',\n",
       " '1857',\n",
       " '1861',\n",
       " '1865',\n",
       " '1869',\n",
       " '1873',\n",
       " '1877',\n",
       " '1881',\n",
       " '1885',\n",
       " '1889',\n",
       " '1893',\n",
       " '1897',\n",
       " '1901',\n",
       " '1905',\n",
       " '1909',\n",
       " '1913',\n",
       " '1917',\n",
       " '1921',\n",
       " '1925',\n",
       " '1929',\n",
       " '1933',\n",
       " '1937',\n",
       " '1941',\n",
       " '1945',\n",
       " '1949',\n",
       " '1953',\n",
       " '1957',\n",
       " '1961',\n",
       " '1965',\n",
       " '1969',\n",
       " '1973',\n",
       " '1977',\n",
       " '1981',\n",
       " '1985',\n",
       " '1989',\n",
       " '1993',\n",
       " '1997',\n",
       " '2001',\n",
       " '2005',\n",
       " '2009',\n",
       " '2013',\n",
       " '2017']"
      ]
     },
     "execution_count": 24,
     "metadata": {},
     "output_type": "execute_result"
    }
   ],
   "source": [
    "from nltk.corpus import inaugural\n",
    "inaugural.fileids()\n",
    "[fileid[:4] for fileid in inaugural.fileids()]"
   ]
  },
  {
   "cell_type": "markdown",
   "metadata": {},
   "source": [
    "Notice that the year of each text appears in its filename. To get the year out of the\n",
    "filename, we extracted the first four characters, using `fileid[:4]`."
   ]
  },
  {
   "cell_type": "markdown",
   "metadata": {},
   "source": [
    "Let’s look at how the words America and citizen are used over time. The following code\n",
    "converts the words in the Inaugural corpus to lowercase using `w.lower()` , then checks\n",
    "whether they start with either of the “targets” america or citizen using `startswith()`\n",
    ". Thus it will count words such as American’s and Citizens. We’ll learn about conditional frequency distributions in Section 2.2; for now, just consider the output, shown\n",
    "in Figure 2-1."
   ]
  },
  {
   "cell_type": "code",
   "execution_count": 27,
   "metadata": {},
   "outputs": [
    {
     "data": {
      "image/png": "[encoded data removed]",
      "text/plain": [
       "<Figure size 432x288 with 1 Axes>"
      ]
     },
     "metadata": {
      "needs_background": "light"
     },
     "output_type": "display_data"
    },
    {
     "data": {
      "text/plain": [
       "<AxesSubplot:xlabel='Samples', ylabel='Counts'>"
      ]
     },
     "execution_count": 27,
     "metadata": {},
     "output_type": "execute_result"
    }
   ],
   "source": [
    "cfd = nltk.ConditionalFreqDist(\n",
    "     (target, fileid[:4])\n",
    "     for fileid in inaugural.fileids()\n",
    "     for w in inaugural.words(fileid)\n",
    "     for target in ['america', 'citizen']\n",
    "     if w.lower().startswith(target))\n",
    "\n",
    "cfd.plot()"
   ]
  },
  {
   "cell_type": "markdown",
   "metadata": {},
   "source": [
    "**Annotated Text Corpora**\n",
    "\n",
    "Many text corpora contain linguistic annotations, representing part-of-speech tags,\n",
    "named entities, syntactic structures, semantic roles, and so forth. NLTK provides\n",
    "convenient ways to access several of these corpora, and has data packages containing\n",
    "corpora and corpus samples, freely downloadable for use in teaching and research.\n",
    "Table 2-2 lists some of the corpora. For information about downloading them, see\n",
    "http://www.nltk.org/data. For more examples of how to access NLTK corpora, please\n",
    "consult the Corpus HOWTO at http://www.nltk.org/howto."
   ]
  },
  {
   "cell_type": "markdown",
   "metadata": {},
   "source": [
    "**Corpora in Other Languages**\n",
    "\n",
    "NLTK comes with corpora for many languages, though in some cases you will need to\n",
    "learn how to manipulate character encodings in Python before using these corpora (see\n",
    "Section 3.3)."
   ]
  },
  {
   "cell_type": "code",
   "execution_count": 28,
   "metadata": {},
   "outputs": [
    {
     "data": {
      "text/plain": [
       "['El', 'grupo', 'estatal', 'Electricité_de_France', ...]"
      ]
     },
     "execution_count": 28,
     "metadata": {},
     "output_type": "execute_result"
    }
   ],
   "source": [
    "nltk.corpus.cess_esp.words()"
   ]
  },
  {
   "cell_type": "code",
   "execution_count": 29,
   "metadata": {},
   "outputs": [
    {
     "data": {
      "text/plain": [
       "['Um', 'revivalismo', 'refrescante', 'O', '7_e_Meio', ...]"
      ]
     },
     "execution_count": 29,
     "metadata": {},
     "output_type": "execute_result"
    }
   ],
   "source": [
    "nltk.corpus.floresta.words()"
   ]
  },
  {
   "cell_type": "code",
   "execution_count": 30,
   "metadata": {},
   "outputs": [
    {
     "data": {
      "text/plain": [
       "['पूर्ण', 'प्रतिबंध', 'हटाओ', ':', 'इराक', 'संयुक्त', ...]"
      ]
     },
     "execution_count": 30,
     "metadata": {},
     "output_type": "execute_result"
    }
   ],
   "source": [
    "nltk.corpus.indian.words('hindi.pos')"
   ]
  },
  {
   "cell_type": "code",
   "execution_count": 33,
   "metadata": {},
   "outputs": [],
   "source": [
    "#nltk.corpus.udhr.fileids()"
   ]
  },
  {
   "cell_type": "code",
   "execution_count": 32,
   "metadata": {},
   "outputs": [
    {
     "data": {
      "text/plain": [
       "['Saben', 'umat', 'manungsa', 'lair', 'kanthi', 'hak', ...]"
      ]
     },
     "execution_count": 32,
     "metadata": {},
     "output_type": "execute_result"
    }
   ],
   "source": [
    " nltk.corpus.udhr.words('Javanese-Latin1')[11:]"
   ]
  },
  {
   "cell_type": "markdown",
   "metadata": {},
   "source": [
    "The last of these corpora, udhr, contains the Universal Declaration of Human Rights\n",
    "in over 300 languages. The fileids for this corpus include information about the character encoding used in the file, such as **UTF8** or **Latin1**. Let’s use a conditional frequency distribution to examine the differences in word lengths for a selection of languages included in the udhr corpus. The output is shown in Figure 2-2 (run the program yourself to see a color plot). Note that **Tru**e and **False** are Python’s built-in Boolean values."
   ]
  },
  {
   "cell_type": "code",
   "execution_count": 35,
   "metadata": {},
   "outputs": [
    {
     "data": {
      "image/png": "[encoded data removed]",
      "text/plain": [
       "<Figure size 432x288 with 1 Axes>"
      ]
     },
     "metadata": {
      "needs_background": "light"
     },
     "output_type": "display_data"
    },
    {
     "data": {
      "text/plain": [
       "<AxesSubplot:xlabel='Samples', ylabel='Cumulative Counts'>"
      ]
     },
     "execution_count": 35,
     "metadata": {},
     "output_type": "execute_result"
    }
   ],
   "source": [
    "from nltk.corpus import udhr\n",
    "\n",
    "languages = ['Chickasaw', 'English', 'German_Deutsch', 'Greenlandic_Inuktikut', 'Hungarian_Magyar', 'Ibibio_Efik']\n",
    "cfd = nltk.ConditionalFreqDist(\n",
    "    (lang, len(word))\n",
    "    for lang in languages\n",
    "    for word in udhr.words(lang + '-Latin1'))\n",
    "\n",
    "cfd.plot(cumulative=True)"
   ]
  },
  {
   "cell_type": "markdown",
   "metadata": {},
   "source": [
    "**Text Corpus Structure**\n",
    "\n",
    "We have seen a variety of corpus structures so far; these are summarized in Figure 2-3. The simplest kind lacks any structure: it is just a collection of texts. Often,\n",
    "texts are grouped into categories that might correspond to genre, source, author, language, etc. Sometimes these categories overlap, notably in the case of topical categories,\n",
    "as a text can be relevant to more than one topic. Occasionally, text collections have\n",
    "temporal structure, news collections being the most common example."
   ]
  },
  {
   "cell_type": "markdown",
   "metadata": {},
   "source": [
    "![](images/2.1.png)\n",
    "\n",
    "*Figure 2-3. Common structures for text corpora: The simplest kind of corpus is a collection of isolated\n",
    "texts with no particular organization; some corpora are structured into categories, such as genre\n",
    "(Brown Corpus); some categorizations overlap, such as topic categories (Reuters Corpus); other\n",
    "corpora represent language use over time (Inaugural Address Corpus)*"
   ]
  },
  {
   "cell_type": "markdown",
   "metadata": {},
   "source": [
    "**Loading Your Own Corpus**\n",
    "If you have a your own collection of text files that you would like to access using the\n",
    "methods discussed earlier, you can easily load them with the help of NLTK’s Plain\n",
    "textCorpusReader. Check the location of your files on your file system; in the following\n",
    "example, we have taken this to be the directory /usr/share/dict. Whatever the location,\n",
    "set this to be the value of corpus_root . The second parameter of the `PlaintextCorpusReader` initializer can be a list of fileids, like `['a.txt', 'test/b.txt']`, or a pattern\n",
    "that matches all fileids, like `'[abc]/.*\\.txt'` (see Section 3.4 for information about\n",
    "regular expressions)."
   ]
  },
  {
   "cell_type": "markdown",
   "metadata": {},
   "source": [
    "## 2.2 Conditional Frequency Distributions\n",
    "We introduced frequency distributions in Section 1.3. We saw that given some list\n",
    "mylist of words or other items, FreqDist(mylist) would compute the number of\n",
    "occurrences of each item in the list. Here we will generalize this idea.\n",
    "\n",
    "When the texts of a corpus are divided into several categories (by genre, topic, author,\n",
    "etc.), we can maintain separate frequency distributions for each category. This will\n",
    "allow us to study systematic differences between the categories. In the previous section,\n",
    "we achieved this using NLTK’s ConditionalFreqDist data type. A **conditional frequency distribution** is a collection of frequency distributions, each one for a different\n",
    "“condition.” The condition will often be the category of the text. Figure 2-4 depicts a\n",
    "fragment of a conditional frequency distribution having just two conditions, one for\n",
    "news text and one for romance text."
   ]
  },
  {
   "cell_type": "markdown",
   "metadata": {},
   "source": [
    "**Conditions and Events**\n",
    "\n",
    "A frequency distribution counts observable events, such as the appearance of words in\n",
    "a text. A conditional frequency distribution needs to pair each event with a condition.\n",
    "So instead of processing a sequence of words , we have to process a sequence of\n",
    "pairs :"
   ]
  },
  {
   "cell_type": "code",
   "execution_count": 36,
   "metadata": {},
   "outputs": [],
   "source": [
    "text = ['The', 'Fulton', 'County', 'Grand', 'Jury', 'said', ...]\n",
    "pairs = [('news', 'The'), ('news', 'Fulton'), ('news', 'County'), ...]"
   ]
  },
  {
   "cell_type": "markdown",
   "metadata": {},
   "source": [
    "Each pair has the form *(condition, event)*. If we were processing the entire Brown\n",
    "Corpus by genre, there would be 15 conditions (one per genre) and 1,161,192 events\n",
    "(one per word)."
   ]
  },
  {
   "cell_type": "markdown",
   "metadata": {},
   "source": [
    "**Counting Words by Genre**\n",
    "In Section 2.1, we saw a conditional frequency distribution where the condition was\n",
    "the section of the Brown Corpus, and for each condition we counted words. Whereas\n",
    "`FreqDist()` takes a simple list as input, `ConditionalFreqDist()` takes a list of pairs."
   ]
  },
  {
   "cell_type": "code",
   "execution_count": 37,
   "metadata": {},
   "outputs": [],
   "source": [
    "from nltk.corpus import brown\n",
    "cfd = nltk.ConditionalFreqDist(\n",
    "    (genre, word)\n",
    "    for genre in brown.categories()\n",
    "    for word in brown.words(categories=genre))"
   ]
  },
  {
   "cell_type": "markdown",
   "metadata": {},
   "source": [
    "**Plotting and Tabulating Distributions**\n",
    "\n",
    "Apart from combining two or more frequency distributions, and being easy to initialize,\n",
    "a `ConditionalFreqDist` provides some useful methods for tabulation and plotting. The plot in Figure 2-1 was based on a conditional frequency distribution reproduced\n",
    "in the following code. The condition is either of the words america or citizen , and\n",
    "the counts being plotted are the number of times the word occurred in a particular\n",
    "speech. It exploits the fact that the filename for each speech—for example,\n",
    "1865-Lincoln.txt—contains the year as the first four characters . This code generates\n",
    "the pair `('america', '1865')` for every instance of a word whose lowercased form starts\n",
    "with america—such as Americans—in the file 1865-Lincoln.txt."
   ]
  },
  {
   "cell_type": "code",
   "execution_count": 38,
   "metadata": {},
   "outputs": [],
   "source": [
    "from nltk.corpus import inaugural\n",
    "cfd = nltk.ConditionalFreqDist(\n",
    "    (target, fileid[:4])\n",
    "    for fileid in inaugural.fileids()\n",
    "    for w in inaugural.words(fileid)\n",
    "    for target in ['america', 'citizen']\n",
    "    if w.lower().startswith(target))"
   ]
  },
  {
   "cell_type": "markdown",
   "metadata": {},
   "source": [
    "**Generating Random Text with Bigrams**\n",
    "\n",
    "We can use a conditional frequency distribution to create a table of bigrams (word\n",
    "pairs, introduced in Section 1.3). The `bigrams()` function takes a list of words and builds\n",
    "a list of consecutive word pairs:"
   ]
  },
  {
   "cell_type": "code",
   "execution_count": 40,
   "metadata": {},
   "outputs": [
    {
     "name": "stdout",
     "output_type": "stream",
     "text": [
      "<generator object bigrams at 0x0000017595F30890>\n"
     ]
    }
   ],
   "source": [
    "sent = ['In', 'the', 'beginning', 'God', 'created', 'the', 'heaven', 'and', 'the', 'earth', '.']\n",
    "nltk.bigrams(sent)"
   ]
  },
  {
   "cell_type": "markdown",
   "metadata": {},
   "source": [
    "## 2.3 More Python: Reusing Code\n",
    "By this time you’ve probably typed and retyped a lot of code in the Python interactive\n",
    "interpreter. If you mess up when retyping a complex example, you have to enter it again.\n",
    "Using the arrow keys to access and modify previous commands is helpful but only goes\n",
    "so far. In this section, we see two important ways to reuse code: text editors and Python\n",
    "functions."
   ]
  },
  {
   "cell_type": "markdown",
   "metadata": {},
   "source": [
    "## 2.4 Lexical Resources\n",
    "A lexicon, or lexical resource, is a collection of words and/or phrases along with associated information, such as part-of-speech and sense definitions. Lexical resources are\n",
    "secondary to texts, and are usually created and enriched with the help of texts. For\n",
    "example, if we have defined a text `my_text`, then `vocab = sorted(set(my_text))` builds\n",
    "the vocabulary of `my_text`, whereas `word_freq = FreqDist(my_text)` counts the frequency of each word in the text. Both `vocab` and `word_freq` are simple lexical resources.\n",
    "Similarly, a concordance like the one we saw in Section 1.1 gives us information about\n",
    "word usage that might help in the preparation of a dictionary. Standard terminology\n",
    "for lexicons is illustrated in Figure 2-5. A **lexical entry** consists of a **headword** (also known as a **lemma**) along with additional information, such as the part-of-speech and the sense definition. Two distinct words having the same spelling are called\n",
    "**homonyms**."
   ]
  },
  {
   "cell_type": "markdown",
   "metadata": {},
   "source": [
    "![](images/2.2.png) \n",
    "\n",
    "The simplest kind of lexicon is nothing more than a sorted list of words. Sophisticated\n",
    "lexicons include complex structure within and across the individual entries. In this\n",
    "section, we’ll look at some lexical resources included with NLTK."
   ]
  },
  {
   "cell_type": "markdown",
   "metadata": {},
   "source": [
    "**Wordlist Corpora**\n",
    "\n",
    "NLTK includes some corpora that are nothing more than wordlists. The Words Corpus\n",
    "is the */usr/dict/words* file from Unix, used by some spellcheckers. We can use it to find\n",
    "unusual or misspelled words in a text corpus, as shown in Example 2-3."
   ]
  },
  {
   "cell_type": "code",
   "execution_count": 41,
   "metadata": {},
   "outputs": [],
   "source": [
    "def unusual_words(text):\n",
    "    text_vocab = set(w.lower() for w in text if w.isalpha())\n",
    "    english_vocab = set(w.lower() for w in nltk.corpus.words.words())\n",
    "    unusual = text_vocab.difference(english_vocab)\n",
    "    return sorted(unusual)"
   ]
  },
  {
   "cell_type": "code",
   "execution_count": 43,
   "metadata": {},
   "outputs": [
    {
     "data": {
      "text/plain": [
       "['abbeyland',\n",
       " 'abhorred',\n",
       " 'abilities',\n",
       " 'abounded',\n",
       " 'abridgement',\n",
       " 'abused',\n",
       " 'abuses',\n",
       " 'accents',\n",
       " 'accepting',\n",
       " 'accommodations']"
      ]
     },
     "execution_count": 43,
     "metadata": {},
     "output_type": "execute_result"
    }
   ],
   "source": [
    "unusual_words(nltk.corpus.gutenberg.words('austen-sense.txt'))[:10]"
   ]
  },
  {
   "cell_type": "code",
   "execution_count": 44,
   "metadata": {},
   "outputs": [
    {
     "data": {
      "text/plain": [
       "['aaaaaaaaaaaaaaaaa',\n",
       " 'aaahhhh',\n",
       " 'abortions',\n",
       " 'abou',\n",
       " 'abourted',\n",
       " 'abs',\n",
       " 'ack',\n",
       " 'acros',\n",
       " 'actualy',\n",
       " 'adams']"
      ]
     },
     "execution_count": 44,
     "metadata": {},
     "output_type": "execute_result"
    }
   ],
   "source": [
    " unusual_words(nltk.corpus.nps_chat.words())[:10]"
   ]
  },
  {
   "cell_type": "markdown",
   "metadata": {},
   "source": [
    "There is also a corpus of **stopwords**, that is, high-frequency words such as the, to, and\n",
    "also that we sometimes want to filter out of a document before further processing.\n",
    "Stopwords usually have little lexical content, and their presence in a text fails to distinguish it from other texts."
   ]
  },
  {
   "cell_type": "code",
   "execution_count": 46,
   "metadata": {},
   "outputs": [
    {
     "data": {
      "text/plain": [
       "['i',\n",
       " 'me',\n",
       " 'my',\n",
       " 'myself',\n",
       " 'we',\n",
       " 'our',\n",
       " 'ours',\n",
       " 'ourselves',\n",
       " 'you',\n",
       " \"you're\",\n",
       " \"you've\",\n",
       " \"you'll\",\n",
       " \"you'd\",\n",
       " 'your',\n",
       " 'yours',\n",
       " 'yourself',\n",
       " 'yourselves',\n",
       " 'he',\n",
       " 'him',\n",
       " 'his']"
      ]
     },
     "execution_count": 46,
     "metadata": {},
     "output_type": "execute_result"
    }
   ],
   "source": [
    "from nltk.corpus import stopwords\n",
    "stopwords.words('english')[:20]"
   ]
  },
  {
   "cell_type": "markdown",
   "metadata": {},
   "source": [
    "Let’s define a function to compute what fraction of words in a text are not in the stopwords list:"
   ]
  },
  {
   "cell_type": "code",
   "execution_count": 47,
   "metadata": {},
   "outputs": [
    {
     "data": {
      "text/plain": [
       "0.735240435097661"
      ]
     },
     "execution_count": 47,
     "metadata": {},
     "output_type": "execute_result"
    }
   ],
   "source": [
    "def content_fraction(text):\n",
    "    stopwords = nltk.corpus.stopwords.words('english')\n",
    "    content = [w for w in text if w.lower() not in stopwords]\n",
    "    return len(content) / len(text)\n",
    "\n",
    "content_fraction(nltk.corpus.reuters.words())"
   ]
  },
  {
   "cell_type": "markdown",
   "metadata": {},
   "source": [
    "One more wordlist corpus is the Names Corpus, containing 8,000 first names categorized by gender. The male and female names are stored in separate files. Let’s find names\n",
    "that appear in both files, i.e., names that are ambiguous for gender:"
   ]
  },
  {
   "cell_type": "code",
   "execution_count": 49,
   "metadata": {},
   "outputs": [
    {
     "data": {
      "text/plain": [
       "['female.txt', 'male.txt']"
      ]
     },
     "execution_count": 49,
     "metadata": {},
     "output_type": "execute_result"
    }
   ],
   "source": [
    "names = nltk.corpus.names\n",
    "names.fileids()"
   ]
  },
  {
   "cell_type": "code",
   "execution_count": 50,
   "metadata": {},
   "outputs": [
    {
     "data": {
      "text/plain": [
       "['Abbey',\n",
       " 'Abbie',\n",
       " 'Abby',\n",
       " 'Addie',\n",
       " 'Adrian',\n",
       " 'Adrien',\n",
       " 'Ajay',\n",
       " 'Alex',\n",
       " 'Alexis',\n",
       " 'Alfie',\n",
       " 'Ali',\n",
       " 'Alix',\n",
       " 'Allie',\n",
       " 'Allyn',\n",
       " 'Andie',\n",
       " 'Andrea',\n",
       " 'Andy',\n",
       " 'Angel',\n",
       " 'Angie',\n",
       " 'Ariel']"
      ]
     },
     "execution_count": 50,
     "metadata": {},
     "output_type": "execute_result"
    }
   ],
   "source": [
    "male_names = names.words('male.txt')\n",
    "female_names = names.words('female.txt')\n",
    "[w for w in male_names if w in female_names][:20]"
   ]
  },
  {
   "cell_type": "markdown",
   "metadata": {},
   "source": [
    "It is well known that names ending in the letter a are almost always female. We can see\n",
    "this and some other patterns in the graph in Figure 2-7, produced by the following code.\n",
    "Remember that `name[-1]` is the last letter of `name`."
   ]
  },
  {
   "cell_type": "code",
   "execution_count": 51,
   "metadata": {},
   "outputs": [
    {
     "data": {
      "image/png": "[encoded data removed]",
      "text/plain": [
       "<Figure size 432x288 with 1 Axes>"
      ]
     },
     "metadata": {
      "needs_background": "light"
     },
     "output_type": "display_data"
    },
    {
     "data": {
      "text/plain": [
       "<AxesSubplot:xlabel='Samples', ylabel='Counts'>"
      ]
     },
     "execution_count": 51,
     "metadata": {},
     "output_type": "execute_result"
    }
   ],
   "source": [
    "cfd = nltk.ConditionalFreqDist(\n",
    "    (fileid, name[-1])\n",
    "    for fileid in names.fileids()\n",
    "    for name in names.words(fileid))\n",
    "cfd.plot()"
   ]
  },
  {
   "cell_type": "markdown",
   "metadata": {},
   "source": [
    "**A Pronouncing Dictionary**\n",
    "\n",
    "A slightly richer kind of lexical resource is a table (or spreadsheet), containing a word\n",
    "plus some properties in each row. NLTK includes the CMU Pronouncing Dictionary\n",
    "for U.S. English, which was designed for use by speech synthesizers."
   ]
  },
  {
   "cell_type": "code",
   "execution_count": 5,
   "metadata": {},
   "outputs": [
    {
     "data": {
      "text/plain": [
       "133737"
      ]
     },
     "execution_count": 5,
     "metadata": {},
     "output_type": "execute_result"
    }
   ],
   "source": [
    "entries = nltk.corpus.cmudict.entries()\n",
    "len(entries)"
   ]
  },
  {
   "cell_type": "code",
   "execution_count": 53,
   "metadata": {},
   "outputs": [
    {
     "name": "stdout",
     "output_type": "stream",
     "text": [
      "('explorer', ['IH0', 'K', 'S', 'P', 'L', 'AO1', 'R', 'ER0'])\n",
      "('explorers', ['IH0', 'K', 'S', 'P', 'L', 'AO1', 'R', 'ER0', 'Z'])\n",
      "('explores', ['IH0', 'K', 'S', 'P', 'L', 'AO1', 'R', 'Z'])\n",
      "('exploring', ['IH0', 'K', 'S', 'P', 'L', 'AO1', 'R', 'IH0', 'NG'])\n",
      "('explosion', ['IH0', 'K', 'S', 'P', 'L', 'OW1', 'ZH', 'AH0', 'N'])\n",
      "('explosions', ['IH0', 'K', 'S', 'P', 'L', 'OW1', 'ZH', 'AH0', 'N', 'Z'])\n",
      "('explosive', ['IH0', 'K', 'S', 'P', 'L', 'OW1', 'S', 'IH0', 'V'])\n",
      "('explosively', ['EH2', 'K', 'S', 'P', 'L', 'OW1', 'S', 'IH0', 'V', 'L', 'IY0'])\n"
     ]
    }
   ],
   "source": [
    "for entry in entries[39943:39951]:\n",
    "    print(entry)"
   ]
  },
  {
   "cell_type": "markdown",
   "metadata": {},
   "source": [
    "For each word, this lexicon provides a list of phonetic codes—distinct labels for each\n",
    "contrastive sound—known as *phones*. Observe that *fire* has two pronunciations (in\n",
    "U.S. English): the one-syllable **F AY1 R**, and the two-syllable **F AY1 ER0**. The symbols\n",
    "in the CMU Pronouncing Dictionary are from the Arpabet, described in more detail at\n",
    "http://en.wikipedia.org/wiki/Arpabet"
   ]
  },
  {
   "cell_type": "code",
   "execution_count": 6,
   "metadata": {},
   "outputs": [
    {
     "name": "stdout",
     "output_type": "stream",
     "text": [
      "pait EY1\n",
      "pat AE1\n",
      "pate EY1\n",
      "patt AE1\n",
      "peart ER1\n",
      "peat IY1\n",
      "peet IY1\n",
      "peete IY1\n",
      "pert ER1\n",
      "pet EH1\n",
      "pete IY1\n",
      "pett EH1\n",
      "piet IY1\n",
      "piette IY1\n",
      "pit IH1\n",
      "pitt IH1\n",
      "pot AA1\n",
      "pote OW1\n",
      "pott AA1\n",
      "pout AW1\n",
      "puett UW1\n",
      "purt ER1\n",
      "put UH1\n",
      "putt AH1\n"
     ]
    }
   ],
   "source": [
    "for word, pron in entries:\n",
    "    if len(pron) == 3:\n",
    "        ph1, ph2, ph3 = pron\n",
    "        if ph1 == 'P' and ph3 == 'T':\n",
    "            print (word, ph2)"
   ]
  },
  {
   "cell_type": "markdown",
   "metadata": {},
   "source": [
    "Here’s another example of the same `for` statement, this time used inside a list comprehension. This program finds all words whose pronunciation ends with a syllable\n",
    "sounding like nicks. You could use this method to find rhyming words."
   ]
  },
  {
   "cell_type": "code",
   "execution_count": 9,
   "metadata": {},
   "outputs": [
    {
     "data": {
      "text/plain": [
       "[\"atlantic's\",\n",
       " 'audiotronics',\n",
       " 'avionics',\n",
       " 'beatniks',\n",
       " 'calisthenics',\n",
       " 'centronics',\n",
       " 'chamonix',\n",
       " 'chetniks',\n",
       " \"clinic's\",\n",
       " 'clinics',\n",
       " 'conics',\n",
       " 'conics',\n",
       " 'cryogenics',\n",
       " 'cynics',\n",
       " 'diasonics',\n",
       " \"dominic's\",\n",
       " 'ebonics',\n",
       " 'electronics',\n",
       " \"electronics'\",\n",
       " \"endotronics'\"]"
      ]
     },
     "execution_count": 9,
     "metadata": {},
     "output_type": "execute_result"
    }
   ],
   "source": [
    "syllable = ['N', 'IH0', 'K', 'S']\n",
    "[word for word, pron in entries if pron[-4:] == syllable][:20]"
   ]
  },
  {
   "cell_type": "markdown",
   "metadata": {},
   "source": [
    "The phones contain digits to represent primary stress (1), secondary stress (2), and no\n",
    "stress (0). As our final example, we define a function to extract the stress digits and then\n",
    "scan our lexicon to find words having a particular stress pattern."
   ]
  },
  {
   "cell_type": "code",
   "execution_count": 10,
   "metadata": {},
   "outputs": [
    {
     "data": {
      "text/plain": [
       "['abbreviated',\n",
       " 'abbreviated',\n",
       " 'abbreviating',\n",
       " 'accelerated',\n",
       " 'accelerating',\n",
       " 'accelerator',\n",
       " 'accelerators',\n",
       " 'accentuated',\n",
       " 'accentuating',\n",
       " 'accommodated',\n",
       " 'accommodating',\n",
       " 'accommodative',\n",
       " 'accumulated',\n",
       " 'accumulating',\n",
       " 'accumulative',\n",
       " 'accumulator',\n",
       " 'accumulators',\n",
       " 'accusatory',\n",
       " 'adenovirus',\n",
       " 'adjudicated']"
      ]
     },
     "execution_count": 10,
     "metadata": {},
     "output_type": "execute_result"
    }
   ],
   "source": [
    "def stress(pron):\n",
    "    return [char for phone in pron for char in phone if char.isdigit()]\n",
    "\n",
    "[w for w, pron in entries if stress(pron) == ['0', '1', '0', '2', '0']][:20]"
   ]
  },
  {
   "cell_type": "markdown",
   "metadata": {},
   "source": [
    "We can use a conditional frequency distribution to help us find minimally contrasting\n",
    "sets of words. Here we find all the p words consisting of three sounds , and group\n",
    "them according to their first and last sounds ."
   ]
  },
  {
   "cell_type": "code",
   "execution_count": 11,
   "metadata": {},
   "outputs": [
    {
     "name": "stdout",
     "output_type": "stream",
     "text": [
      "P-P paap paape pap pape papp paup peep pep pip pipe pipp poop pop pope pop...\n",
      "P-R paar pair par pare parr pear peer pier poor poore por pore porr pour...\n",
      "P-K pac pack paek paik pak pake paque peak peake pech peck peek perc perk ...\n",
      "P-S pace pass pasts peace pearse pease perce pers perse pesce piece piss p...\n",
      "P-L pahl pail paille pal pale pall paul paule paull peal peale pearl pearl...\n",
      "P-N paign pain paine pan pane pawn payne peine pen penh penn pin pine pinn...\n",
      "P-Z pais paiz pao's pas pause paws pays paz peas pease pei's perz pez pies...\n",
      "P-T pait pat pate patt peart peat peet peete pert pet pete pett piet piett...\n",
      "P-CH patch pautsch peach perch petsch petsche piche piech pietsch pitch pit...\n",
      "P-UW1 peru peugh pew plew plue prew pru prue prugh pshew pugh...\n"
     ]
    }
   ],
   "source": [
    "p3 = [(pron[0]+'-'+pron[2], word)\n",
    "    for (word, pron) in entries\n",
    "    if pron[0] == 'P' and len(pron) == 3]\n",
    "\n",
    "cfd = nltk.ConditionalFreqDist(p3)\n",
    "for template in cfd.conditions():\n",
    "    if len(cfd[template]) > 10:\n",
    "        words = cfd[template].keys()\n",
    "        wordlist = ' '.join(words)\n",
    "        print (template, wordlist[:70] + \"...\")"
   ]
  },
  {
   "cell_type": "markdown",
   "metadata": {},
   "source": [
    "Rather than iterating over the whole dictionary, we can also access it by looking up\n",
    "particular words. We will use Python’s dictionary data structure, which we will study\n",
    "systematically in Section 5.3. We look up a dictionary by specifying its name, followed\n",
    "by a **key** (such as the word 'fire') inside square brackets ."
   ]
  },
  {
   "cell_type": "code",
   "execution_count": 12,
   "metadata": {},
   "outputs": [
    {
     "data": {
      "text/plain": [
       "[['F', 'AY1', 'ER0'], ['F', 'AY1', 'R']]"
      ]
     },
     "execution_count": 12,
     "metadata": {},
     "output_type": "execute_result"
    }
   ],
   "source": [
    "prondict = nltk.corpus.cmudict.dict()\n",
    "prondict['fire']"
   ]
  },
  {
   "cell_type": "markdown",
   "metadata": {},
   "source": [
    "**Comparative Wordlists**\n",
    "\n",
    "Another example of a tabular lexicon is the **comparative wordlist**. NLTK includes\n",
    "so-called **Swadesh wordlists**, lists of about 200 common words in several languages.\n",
    "The languages are identified using an ISO 639 two-letter code."
   ]
  },
  {
   "cell_type": "code",
   "execution_count": 13,
   "metadata": {},
   "outputs": [
    {
     "data": {
      "text/plain": [
       "['be',\n",
       " 'bg',\n",
       " 'bs',\n",
       " 'ca',\n",
       " 'cs',\n",
       " 'cu',\n",
       " 'de',\n",
       " 'en',\n",
       " 'es',\n",
       " 'fr',\n",
       " 'hr',\n",
       " 'it',\n",
       " 'la',\n",
       " 'mk',\n",
       " 'nl',\n",
       " 'pl',\n",
       " 'pt',\n",
       " 'ro',\n",
       " 'ru',\n",
       " 'sk',\n",
       " 'sl',\n",
       " 'sr',\n",
       " 'sw',\n",
       " 'uk']"
      ]
     },
     "execution_count": 13,
     "metadata": {},
     "output_type": "execute_result"
    }
   ],
   "source": [
    "from nltk.corpus import swadesh\n",
    "swadesh.fileids()"
   ]
  },
  {
   "cell_type": "code",
   "execution_count": 15,
   "metadata": {},
   "outputs": [
    {
     "data": {
      "text/plain": [
       "['I',\n",
       " 'you (singular), thou',\n",
       " 'he',\n",
       " 'we',\n",
       " 'you (plural)',\n",
       " 'they',\n",
       " 'this',\n",
       " 'that',\n",
       " 'here',\n",
       " 'there',\n",
       " 'who',\n",
       " 'what',\n",
       " 'where',\n",
       " 'when',\n",
       " 'how',\n",
       " 'not',\n",
       " 'all',\n",
       " 'many',\n",
       " 'some',\n",
       " 'few']"
      ]
     },
     "execution_count": 15,
     "metadata": {},
     "output_type": "execute_result"
    }
   ],
   "source": [
    "swadesh.words('en')[:20]"
   ]
  },
  {
   "cell_type": "markdown",
   "metadata": {},
   "source": [
    "We can access cognate words from multiple languages using the `entries()` method,\n",
    "specifying a list of languages. With one further step we can convert this into a simple\n",
    "dictionary (we’ll learn about `dict()` in Section 5.3)."
   ]
  },
  {
   "cell_type": "code",
   "execution_count": 17,
   "metadata": {},
   "outputs": [
    {
     "data": {
      "text/plain": [
       "[('je', 'I'),\n",
       " ('tu, vous', 'you (singular), thou'),\n",
       " ('il', 'he'),\n",
       " ('nous', 'we'),\n",
       " ('vous', 'you (plural)'),\n",
       " ('ils, elles', 'they'),\n",
       " ('ceci', 'this'),\n",
       " ('cela', 'that'),\n",
       " ('ici', 'here'),\n",
       " ('là', 'there'),\n",
       " ('qui', 'who'),\n",
       " ('quoi', 'what'),\n",
       " ('où', 'where'),\n",
       " ('quand', 'when'),\n",
       " ('comment', 'how'),\n",
       " ('ne...pas', 'not'),\n",
       " ('tout', 'all'),\n",
       " ('plusieurs', 'many'),\n",
       " ('quelques', 'some'),\n",
       " ('peu', 'few')]"
      ]
     },
     "execution_count": 17,
     "metadata": {},
     "output_type": "execute_result"
    }
   ],
   "source": [
    "fr2en = swadesh.entries(['fr', 'en'])\n",
    "fr2en[:20]"
   ]
  },
  {
   "cell_type": "code",
   "execution_count": 18,
   "metadata": {},
   "outputs": [
    {
     "data": {
      "text/plain": [
       "'dog'"
      ]
     },
     "execution_count": 18,
     "metadata": {},
     "output_type": "execute_result"
    }
   ],
   "source": [
    "translate = dict(fr2en)\n",
    "translate['chien']"
   ]
  },
  {
   "cell_type": "markdown",
   "metadata": {},
   "source": [
    "We can make our simple translator more useful by adding other source languages. Let’s\n",
    "get the German-English and Spanish-English pairs, convert each to a dictionary using\n",
    "dict(), then `update` our original `translate` dictionary with these additional mappings:"
   ]
  },
  {
   "cell_type": "code",
   "execution_count": 19,
   "metadata": {},
   "outputs": [
    {
     "data": {
      "text/plain": [
       "'dog'"
      ]
     },
     "execution_count": 19,
     "metadata": {},
     "output_type": "execute_result"
    }
   ],
   "source": [
    "de2en = swadesh.entries(['de', 'en']) # German-English\n",
    "es2en = swadesh.entries(['es', 'en']) # Spanish-English\n",
    "translate.update(dict(de2en))\n",
    "translate.update(dict(es2en))\n",
    "translate['Hund']"
   ]
  },
  {
   "cell_type": "markdown",
   "metadata": {},
   "source": [
    "**Shoebox and Toolbox Lexicons**\n",
    "\n",
    "Perhaps the single most popular tool used by linguists for managing data is Toolbox,\n",
    "previously known as Shoebox since it replaces the field linguist’s traditional shoebox\n",
    "full of file cards. Toolbox is freely downloadable from http://www.sil.org/computing/\n",
    "toolbox/.\n",
    "A Toolbox file consists of a collection of entries, where each entry is made up of one\n",
    "or more fields. Most fields are optional or repeatable, which means that this kind of\n",
    "lexical resource cannot be treated as a table or spreadsheet.\n",
    "Here is a dictionary for the Rotokas language. We see just the first entry, for the word\n",
    "kaa, meaning “to gag”:"
   ]
  },
  {
   "cell_type": "code",
   "execution_count": 22,
   "metadata": {},
   "outputs": [
    {
     "data": {
      "text/plain": [
       "[('kaa',\n",
       "  [('ps', 'V'),\n",
       "   ('pt', 'A'),\n",
       "   ('ge', 'gag'),\n",
       "   ('tkp', 'nek i pas'),\n",
       "   ('dcsv', 'true'),\n",
       "   ('vx', '1'),\n",
       "   ('sc', '???'),\n",
       "   ('dt', '29/Oct/2005'),\n",
       "   ('ex', 'Apoka ira kaaroi aioa-ia reoreopaoro.'),\n",
       "   ('xp', 'Kaikai i pas long nek bilong Apoka bikos em i kaikai na toktok.'),\n",
       "   ('xe', 'Apoka is gagging from food while talking.')]),\n",
       " ('kaa',\n",
       "  [('ps', 'V'),\n",
       "   ('pt', 'B'),\n",
       "   ('ge', 'strangle'),\n",
       "   ('tkp', 'pasim nek'),\n",
       "   ('arg', 'O'),\n",
       "   ('vx', '2'),\n",
       "   ('dt', '07/Oct/2006'),\n",
       "   ('ex', 'Rera rauroro rera kaarevoi.'),\n",
       "   ('xp', 'Em i holim pas em na nekim em.'),\n",
       "   ('xe', 'He is holding him and strangling him.'),\n",
       "   ('ex', 'Iroiro-ia oirato okoearo kaaivoi uvare rirovira kaureoparoveira.'),\n",
       "   ('xp', 'Ol i pasim nek bilong man long rop bikos em i save bikhet tumas.'),\n",
       "   ('xe',\n",
       "    \"They strangled the man's neck with rope because he was very stubborn and arrogant.\"),\n",
       "   ('ex',\n",
       "    'Oirato okoearo kaaivoi iroiro-ia. Uva viapau uvuiparoi ra vovouparo uva kopiiroi.'),\n",
       "   ('xp',\n",
       "    'Ol i pasim nek bilong man long rop. Olsem na em i no pulim win olsem na em i dai.'),\n",
       "   ('xe',\n",
       "    \"They strangled the man's neck with a rope. And he couldn't breathe and he died.\")]),\n",
       " ('kaa',\n",
       "  [('ps', 'N'),\n",
       "   ('pt', 'MASC'),\n",
       "   ('cl', 'isi'),\n",
       "   ('ge', 'cooking banana'),\n",
       "   ('tkp', 'banana bilong kukim'),\n",
       "   ('pt', 'itoo'),\n",
       "   ('sf', 'FLORA'),\n",
       "   ('dt', '12/Aug/2005'),\n",
       "   ('ex', 'Taeavi iria kaa isi kovopaueva kaparapasia.'),\n",
       "   ('xp', 'Taeavi i bin planim gaden banana bilong kukim tasol long paia.'),\n",
       "   ('xe', 'Taeavi planted banana in order to cook it.')]),\n",
       " ('kaakaaro',\n",
       "  [('ps', 'N'),\n",
       "   ('pt', 'NT'),\n",
       "   ('ge', 'mixture'),\n",
       "   ('tkp', '???'),\n",
       "   ('eng', 'mixtures'),\n",
       "   ('eng', 'charm used to keep married men and women youthful and attractive'),\n",
       "   ('cmt',\n",
       "    'Check vowel length. Is it kaakaaro or kaakaro? Does lexeme have suffix, -aro or -ro?'),\n",
       "   ('dt', '20/Nov/2006'),\n",
       "   ('ex',\n",
       "    'Kaakaroto ira purapaiveira aue iava opita, voeao-pa airepa oraouirara, ra va aiopaive.'),\n",
       "   ('xp',\n",
       "    'Kokonas ol i save wokim long ol kain samting bilong ol nupela marit, bai ol i ken kaikai.'),\n",
       "   ('xe', 'Mixtures are made from coconut for newlyweds, who eat them.')]),\n",
       " ('kaakaaviko',\n",
       "  [('ps', 'N'),\n",
       "   ('pt', 'FEM'),\n",
       "   ('ge', 'type of beetle'),\n",
       "   ('tkp', '???'),\n",
       "   ('nt', 'round beetle like Mexican bean beetle'),\n",
       "   ('dt', '10/Feb/2005'),\n",
       "   ('sf', 'FAUNA.INSECT'),\n",
       "   ('ex', 'Kaakaaviko kare oea binara touaveira vara tapo piupaiveira.'),\n",
       "   ('xp',\n",
       "    'Kaakaaviko em i wanpela kain insect em i save istap long ol bin or na long kain lip.'),\n",
       "   ('xe', '???'),\n",
       "   ('ex', 'Kaakaaviko kare oea raviriro kouro piupaiveira.'),\n",
       "   ('xp', 'Em i wanpela kain weevil i save bagarapim ol bin.'),\n",
       "   ('xe', '??? damages up beans.')])]"
      ]
     },
     "execution_count": 22,
     "metadata": {},
     "output_type": "execute_result"
    }
   ],
   "source": [
    "from nltk.corpus import toolbox\n",
    "toolbox.entries('rotokas.dic')[:5]"
   ]
  },
  {
   "cell_type": "markdown",
   "metadata": {},
   "source": [
    "Entries consist of a series of attribute-value pairs, such as `('ps', 'V')` to indicate that\n",
    "the part-of-speech is 'V' (verb), and `('ge', 'gag')` to indicate that the gloss-intoEnglish is 'gag'. The last three pairs contain an example sentence in Rotokas and its\n",
    "translations into Tok Pisin and English."
   ]
  },
  {
   "cell_type": "markdown",
   "metadata": {},
   "source": [
    "## 2.5 WordNet\n",
    "**WordNet** is a semantically oriented dictionary of English, similar to a traditional thesaurus but with a richer structure. NLTK includes the English WordNet, with 155,287\n",
    "words and 117,659 synonym sets. We’ll begin by looking at synonyms and how they\n",
    "are accessed in WordNet."
   ]
  },
  {
   "cell_type": "markdown",
   "metadata": {},
   "source": [
    "**Senses and Synonyms**\n",
    "\n",
    "Consider the sentence in (1a). If we replace the word *motorcar* in (1a) with *automobile*, to get (1b), the meaning of the sentence stays pretty much the same:\n",
    "* a. Benz is credited with the invention of the motorcar.\n",
    "- b. Benz is credited with the invention of the automobile."
   ]
  },
  {
   "cell_type": "markdown",
   "metadata": {},
   "source": [
    "Since everything else in the sentence has remained unchanged, we can conclude that\n",
    "the words *motorcar* and *automobile* have the same meaning, i.e., they are **synonyms**.\n",
    "We can explore these words with the help of WordNet:"
   ]
  },
  {
   "cell_type": "code",
   "execution_count": 2,
   "metadata": {},
   "outputs": [
    {
     "data": {
      "text/plain": [
       "[Synset('car.n.01')]"
      ]
     },
     "execution_count": 2,
     "metadata": {},
     "output_type": "execute_result"
    }
   ],
   "source": [
    "from nltk.corpus import wordnet as wn\n",
    "wn.synsets('motorcar')"
   ]
  },
  {
   "cell_type": "markdown",
   "metadata": {},
   "source": [
    "Thus, *motorcar* has just one possible meaning and it is identified as `car.n.01`, the first\n",
    "noun sense of car. The entity `car.n.01` is called a **synset**, or “synonym set,” a collection\n",
    "of synonymous words (or “lemmas”):"
   ]
  },
  {
   "cell_type": "code",
   "execution_count": 3,
   "metadata": {},
   "outputs": [
    {
     "data": {
      "text/plain": [
       "<bound method Synset.lemma_names of Synset('car.n.01')>"
      ]
     },
     "execution_count": 3,
     "metadata": {},
     "output_type": "execute_result"
    }
   ],
   "source": [
    " wn.synset('car.n.01').lemma_names"
   ]
  },
  {
   "cell_type": "markdown",
   "metadata": {},
   "source": [
    "Each word of a synset can have several meanings, e.g., car can also signify a train carriage, a gondola, or an elevator car. However, we are only interested in the single\n",
    "meaning that is common to all words of this synset. Synsets also come with a prose\n",
    "definition and some example sentences:"
   ]
  },
  {
   "cell_type": "code",
   "execution_count": 4,
   "metadata": {},
   "outputs": [
    {
     "data": {
      "text/plain": [
       "<bound method Synset.definition of Synset('car.n.01')>"
      ]
     },
     "execution_count": 4,
     "metadata": {},
     "output_type": "execute_result"
    }
   ],
   "source": [
    "wn.synset('car.n.01').definition"
   ]
  },
  {
   "cell_type": "code",
   "execution_count": 5,
   "metadata": {},
   "outputs": [
    {
     "data": {
      "text/plain": [
       "<bound method Synset.examples of Synset('car.n.01')>"
      ]
     },
     "execution_count": 5,
     "metadata": {},
     "output_type": "execute_result"
    }
   ],
   "source": [
    "wn.synset('car.n.01').examples"
   ]
  },
  {
   "cell_type": "markdown",
   "metadata": {},
   "source": [
    "Although definitions help humans to understand the intended meaning of a synset, the\n",
    "words of the synset are often more useful for our programs. To eliminate ambiguity,\n",
    "we will identify these words as car.n.01.automobile, car.n.01.motorcar, and so on.\n",
    "This pairing of a synset with a word is called a lemma. We can get all the lemmas for\n",
    "a given synset (1), look up a particular lemma (2), get the synset corresponding to a lemma (3), and get the “name” of a lemma (4):"
   ]
  },
  {
   "cell_type": "code",
   "execution_count": 8,
   "metadata": {},
   "outputs": [
    {
     "data": {
      "text/plain": [
       "<bound method Lemma.name of Lemma('car.n.01.automobile')>"
      ]
     },
     "execution_count": 8,
     "metadata": {},
     "output_type": "execute_result"
    }
   ],
   "source": [
    "wn.synset('car.n.01').lemmas #(1)\n",
    "wn.lemma('car.n.01.automobile') #(2)\n",
    "wn.lemma('car.n.01.automobile').synset #(3)\n",
    "wn.lemma('car.n.01.automobile').name #(4)"
   ]
  },
  {
   "cell_type": "markdown",
   "metadata": {},
   "source": [
    "Unlike the words *automobile* and *motorcar*, which are unambiguous and have one synset, the word *car* is ambiguous, having five synsets:"
   ]
  },
  {
   "cell_type": "code",
   "execution_count": 9,
   "metadata": {},
   "outputs": [
    {
     "name": "stdout",
     "output_type": "stream",
     "text": [
      "<bound method Synset.lemma_names of Synset('car.n.01')>\n",
      "<bound method Synset.lemma_names of Synset('car.n.02')>\n",
      "<bound method Synset.lemma_names of Synset('car.n.03')>\n",
      "<bound method Synset.lemma_names of Synset('car.n.04')>\n",
      "<bound method Synset.lemma_names of Synset('cable_car.n.01')>\n"
     ]
    }
   ],
   "source": [
    "wn.synsets('car')\n",
    "for synset in wn.synsets('car'):\n",
    "    print (synset.lemma_names)"
   ]
  },
  {
   "cell_type": "markdown",
   "metadata": {},
   "source": [
    "**The WordNet Hierarchy**\n",
    "WordNet synsets correspond to abstract concepts, and they don’t always have corresponding words in English. These concepts are linked together in a hierarchy. Some\n",
    "concepts are very general, such as *Entity*, *State*, *Event*; these are called **unique beginners** or root synsets. Others, such as *gas* *guzzler* and *hatchback*, are much more specific.\n",
    "A small portion of a concept hierarchy is illustrated in Figure 2-8.\n",
    "\n",
    "![](images/2.3.png)"
   ]
  },
  {
   "cell_type": "markdown",
   "metadata": {},
   "source": [
    "*Figure 2-8. Fragment of WordNet concept hierarchy: Nodes correspond to synsets; edges indicate the\n",
    "hypernym/hyponym relation, i.e., the relation between superordinate and subordinate concepts*"
   ]
  },
  {
   "cell_type": "markdown",
   "metadata": {},
   "source": [
    "WordNet makes it easy to navigate between concepts. For example, given a concept\n",
    "like *motorcar*, we can look at the concepts that are more specific—the (immediate)\n",
    "**hyponyms**."
   ]
  },
  {
   "cell_type": "code",
   "execution_count": 11,
   "metadata": {},
   "outputs": [
    {
     "data": {
      "text/plain": [
       "Synset('stanley_steamer.n.01')"
      ]
     },
     "execution_count": 11,
     "metadata": {},
     "output_type": "execute_result"
    }
   ],
   "source": [
    "motorcar = wn.synset('car.n.01')\n",
    "types_of_motorcar = motorcar.hyponyms()\n",
    "types_of_motorcar[26]\n",
    "#sorted([lemma.name for synset in types_of_motorcar for lemma in synset.lemmas])"
   ]
  },
  {
   "cell_type": "markdown",
   "metadata": {},
   "source": [
    "We can also navigate up the hierarchy by visiting hypernyms. Some words have multiple\n",
    "paths, because they can be classified in more than one way. There are two paths between\n",
    "`car.n.01` and `entity.n.01` because `wheeled_vehicle.n.01` can be classified as both a\n",
    "vehicle and a container."
   ]
  },
  {
   "cell_type": "markdown",
   "metadata": {},
   "source": [
    "**More Lexical Relations**\n",
    "\n",
    "Hypernyms and hyponyms are called **lexical relations** because they relate one synset\n",
    "to another. These two relations navigate up and down the “is-a” hierarchy. Another\n",
    "important way to navigate the WordNet network is from items to their components\n",
    "(**meronyms**) or to the things they are contained in (**holonyms**). For example, the parts\n",
    "of a tree are its trunk, crown, and so on; these are the part_meronyms(). The substance\n",
    "a tree is made of includes *heartwood* and *sapwood*, i.e., the `substance_meronyms()`. A\n",
    "collection of trees forms a forest, i.e., the `member_holonyms()`:"
   ]
  },
  {
   "cell_type": "code",
   "execution_count": 12,
   "metadata": {},
   "outputs": [
    {
     "data": {
      "text/plain": [
       "[Synset('burl.n.02'),\n",
       " Synset('crown.n.07'),\n",
       " Synset('limb.n.02'),\n",
       " Synset('stump.n.01'),\n",
       " Synset('trunk.n.01')]"
      ]
     },
     "execution_count": 12,
     "metadata": {},
     "output_type": "execute_result"
    }
   ],
   "source": [
    "wn.synset('tree.n.01').part_meronyms()"
   ]
  },
  {
   "cell_type": "code",
   "execution_count": 13,
   "metadata": {},
   "outputs": [
    {
     "data": {
      "text/plain": [
       "[Synset('heartwood.n.01'), Synset('sapwood.n.01')]"
      ]
     },
     "execution_count": 13,
     "metadata": {},
     "output_type": "execute_result"
    }
   ],
   "source": [
    "wn.synset('tree.n.01').substance_meronyms()"
   ]
  },
  {
   "cell_type": "code",
   "execution_count": 14,
   "metadata": {},
   "outputs": [
    {
     "data": {
      "text/plain": [
       "[Synset('forest.n.01')]"
      ]
     },
     "execution_count": 14,
     "metadata": {},
     "output_type": "execute_result"
    }
   ],
   "source": [
    "wn.synset('tree.n.01').member_holonyms()"
   ]
  },
  {
   "cell_type": "markdown",
   "metadata": {},
   "source": [
    "To see just how intricate things can get, consider the word *mint*, which has several\n",
    "closely related senses. We can see that `mint.n.04` is part of `mint.n.02` and the substance from which `mint.n.05` is made."
   ]
  },
  {
   "cell_type": "markdown",
   "metadata": {},
   "source": [
    "There are also relationships between verbs. For example, the act of walking involves\n",
    "the act of stepping, so walking **entails** stepping. Some verbs have multiple entailments:"
   ]
  },
  {
   "cell_type": "code",
   "execution_count": 17,
   "metadata": {},
   "outputs": [
    {
     "data": {
      "text/plain": [
       "[Synset('step.v.01')]"
      ]
     },
     "execution_count": 17,
     "metadata": {},
     "output_type": "execute_result"
    }
   ],
   "source": [
    "wn.synset('walk.v.01').entailments()"
   ]
  },
  {
   "cell_type": "code",
   "execution_count": 18,
   "metadata": {},
   "outputs": [
    {
     "data": {
      "text/plain": [
       "[Synset('chew.v.01'), Synset('swallow.v.01')]"
      ]
     },
     "execution_count": 18,
     "metadata": {},
     "output_type": "execute_result"
    }
   ],
   "source": [
    "wn.synset('eat.v.01').entailments()"
   ]
  },
  {
   "cell_type": "code",
   "execution_count": 19,
   "metadata": {},
   "outputs": [
    {
     "data": {
      "text/plain": [
       "[Synset('arouse.v.07'), Synset('disappoint.v.01')]"
      ]
     },
     "execution_count": 19,
     "metadata": {},
     "output_type": "execute_result"
    }
   ],
   "source": [
    "wn.synset('tease.v.03').entailments()"
   ]
  },
  {
   "cell_type": "markdown",
   "metadata": {},
   "source": [
    "Some lexical relationships hold between lemmas, e.g., **antonymy**:"
   ]
  },
  {
   "cell_type": "code",
   "execution_count": 20,
   "metadata": {},
   "outputs": [
    {
     "data": {
      "text/plain": [
       "[Lemma('demand.n.02.demand')]"
      ]
     },
     "execution_count": 20,
     "metadata": {},
     "output_type": "execute_result"
    }
   ],
   "source": [
    " wn.lemma('supply.n.02.supply').antonyms()"
   ]
  },
  {
   "cell_type": "code",
   "execution_count": 21,
   "metadata": {},
   "outputs": [
    {
     "data": {
      "text/plain": [
       "[Lemma('linger.v.04.linger')]"
      ]
     },
     "execution_count": 21,
     "metadata": {},
     "output_type": "execute_result"
    }
   ],
   "source": [
    " wn.lemma('rush.v.01.rush').antonyms()"
   ]
  },
  {
   "cell_type": "markdown",
   "metadata": {},
   "source": [
    "**Semantic Similarity**\n",
    "\n",
    "We have seen that synsets are linked by a complex network of lexical relations. Given\n",
    "a particular synset, we can traverse the WordNet network to find synsets with related\n",
    "meanings. Knowing which words are semantically related is useful for indexing a collection of texts, so that a search for a general term such as *vehicle* will match documents containing specific terms such as *limousine*."
   ]
  },
  {
   "cell_type": "markdown",
   "metadata": {},
   "source": [
    "Recall that each synset has one or more hypernym paths that link it to a root hypernym\n",
    "such as `entity.n.01`. Two synsets linked to the same root may have several hypernyms\n",
    "in common (see Figure 2-8). If two synsets share a very specific hypernym—one that\n",
    "is low down in the hypernym hierarchy—they must be closely related."
   ]
  },
  {
   "cell_type": "code",
   "execution_count": 26,
   "metadata": {},
   "outputs": [
    {
     "data": {
      "text/plain": [
       "[Synset('baleen_whale.n.01')]"
      ]
     },
     "execution_count": 26,
     "metadata": {},
     "output_type": "execute_result"
    }
   ],
   "source": [
    "right = wn.synset('right_whale.n.01')\n",
    "orca = wn.synset('orca.n.01')\n",
    "minke = wn.synset('minke_whale.n.01')\n",
    "tortoise = wn.synset('tortoise.n.01')\n",
    "novel = wn.synset('novel.n.01')\n",
    "right.lowest_common_hypernyms(minke)"
   ]
  },
  {
   "cell_type": "markdown",
   "metadata": {},
   "source": [
    "Of course we know that *whale* is very specific (and baleen whale even more so), whereas\n",
    "*vertebrate* is more general and *entity* is completely general. We can quantify this concept\n",
    "of generality by looking up the depth of each synset:"
   ]
  },
  {
   "cell_type": "code",
   "execution_count": 27,
   "metadata": {},
   "outputs": [
    {
     "data": {
      "text/plain": [
       "14"
      ]
     },
     "execution_count": 27,
     "metadata": {},
     "output_type": "execute_result"
    }
   ],
   "source": [
    " wn.synset('baleen_whale.n.01').min_depth()"
   ]
  },
  {
   "cell_type": "code",
   "execution_count": 29,
   "metadata": {},
   "outputs": [
    {
     "data": {
      "text/plain": [
       "13"
      ]
     },
     "execution_count": 29,
     "metadata": {},
     "output_type": "execute_result"
    }
   ],
   "source": [
    "wn.synset('whale.n.02').min_depth()"
   ]
  },
  {
   "cell_type": "code",
   "execution_count": 30,
   "metadata": {},
   "outputs": [
    {
     "data": {
      "text/plain": [
       "8"
      ]
     },
     "execution_count": 30,
     "metadata": {},
     "output_type": "execute_result"
    }
   ],
   "source": [
    "wn.synset('vertebrate.n.01').min_depth()"
   ]
  },
  {
   "cell_type": "code",
   "execution_count": 31,
   "metadata": {},
   "outputs": [
    {
     "data": {
      "text/plain": [
       "0"
      ]
     },
     "execution_count": 31,
     "metadata": {},
     "output_type": "execute_result"
    }
   ],
   "source": [
    "wn.synset('entity.n.01').min_depth()"
   ]
  },
  {
   "cell_type": "markdown",
   "metadata": {},
   "source": [
    "Similarity measures have been defined over the collection of WordNet synsets that\n",
    "incorporate this insight. For example, `path_similarity` assigns a score in the range\n",
    "0–1 based on the shortest path that connects the concepts in the hypernym hierarchy\n",
    "(-1 is returned in those cases where a path cannot be found). Comparing a synset with\n",
    "itself will return 1. Consider the following similarity scores, relating *right whale* to *minke whale*, *orca*, *tortoise*, and *novel*. Although the numbers won’t mean much, they decrease as we move away from the semantic space of sea creatures to inanimate objects."
   ]
  },
  {
   "cell_type": "code",
   "execution_count": 32,
   "metadata": {},
   "outputs": [
    {
     "data": {
      "text/plain": [
       "0.25"
      ]
     },
     "execution_count": 32,
     "metadata": {},
     "output_type": "execute_result"
    }
   ],
   "source": [
    "right.path_similarity(minke)"
   ]
  },
  {
   "cell_type": "code",
   "execution_count": 33,
   "metadata": {},
   "outputs": [
    {
     "data": {
      "text/plain": [
       "0.16666666666666666"
      ]
     },
     "execution_count": 33,
     "metadata": {},
     "output_type": "execute_result"
    }
   ],
   "source": [
    "right.path_similarity(orca)"
   ]
  },
  {
   "cell_type": "code",
   "execution_count": 34,
   "metadata": {},
   "outputs": [
    {
     "data": {
      "text/plain": [
       "0.07692307692307693"
      ]
     },
     "execution_count": 34,
     "metadata": {},
     "output_type": "execute_result"
    }
   ],
   "source": [
    "right.path_similarity(tortoise)"
   ]
  },
  {
   "cell_type": "code",
   "execution_count": 35,
   "metadata": {},
   "outputs": [
    {
     "data": {
      "text/plain": [
       "0.043478260869565216"
      ]
     },
     "execution_count": 35,
     "metadata": {},
     "output_type": "execute_result"
    }
   ],
   "source": [
    "right.path_similarity(novel)"
   ]
  },
  {
   "cell_type": "markdown",
   "metadata": {},
   "source": [
    "## 2.6 Summary\n",
    "- A text corpus is a large, structured collection of texts. NLTK comes with many corpora, e.g., the Brown Corpus, `nltk.corpus.brown`.\n",
    "- Some text corpora are categorized, e.g., by genre or topic; sometimes the categories of a corpus overlap each other.\n",
    "- A conditional frequency distribution is a collection of frequency distributions, each one for a different condition. They can be used for counting word frequencies, given a context or a genre.\n",
    "- Python programs more than a few lines long should be entered using a text editor, saved to a file with a .py extension, and accessed using an `import` statement.\n",
    "- Python functions permit you to associate a name with a particular block of code, and reuse that code as often as necessary.\n",
    "- Some functions, known as “methods,” are associated with an object, and we give the object name followed by a period followed by the method name, like this: `x.funct(y)`, e.g., `word.isalpha()`.\n",
    "- To find out about some variable v, type `help(v)` in the Python interactive interpreter to read the help entry for this kind of object.\n",
    "- WordNet is a semantically oriented dictionary of English, consisting of synonym sets—or synsets—and organized into a network.\n",
    "- Some functions are not available by default, but must be accessed using Python’s `import` statement."
   ]
  },
  {
   "cell_type": "markdown",
   "metadata": {},
   "source": [
    "## 2.7 Further Reading\n",
    "Extra materials for this chapter are posted at http://www.nltk.org/, including links to\n",
    "freely available resources on the Web. The corpus methods are summarized in the\n",
    "Corpus HOWTO, at http://www.nltk.org/howto, and documented extensively in the\n",
    "online API documentation.\n",
    "\n",
    "Significant sources of published corpora are the Linguistic Data Consortium (LDC) and\n",
    "the European Language Resources Agency (ELRA). Hundreds of annotated text and\n",
    "speech corpora are available in dozens of languages. Non-commercial licenses permit\n",
    "the data to be used in teaching and research. For some corpora, commercial licenses\n",
    "are also available (but for a higher fee).\n",
    "\n",
    "2.7 Further Reading | 73These and many other language resources have been documented using OLAC Metadata, and can be searched via the OLAC home page at http://www.language-archives\n",
    ".org/. Corpora List (see http://gandalf.aksis.uib.no/corpora/sub.html) is a mailing list for\n",
    "discussions about corpora, and you can find resources by searching the list archives or\n",
    "posting to the list. The most complete inventory of the world’s languages is Ethnologue, http://www.ethnologue.com/. Of 7,000 languages, only a few dozen have substantial digital resources suitable for use in NLP.\n",
    "\n",
    "This chapter has touched on the field of Corpus Linguistics. Other useful books in\n",
    "this area include (Biber, Conrad, & Reppen, 1998), (McEnery, 2006), (Meyer, 2002),\n",
    "(Sampson & McCarthy, 2005), and (Scott & Tribble, 2006). Further readings in quantitative data analysis in linguistics are: (Baayen, 2008), (Gries, 2009), and (Woods,\n",
    "Fletcher, & Hughes, 1986).\n",
    "\n",
    "The original description of WordNet is (Fellbaum, 1998). Although WordNet was\n",
    "originally developed for research in psycholinguistics, it is now widely used in NLP and\n",
    "Information Retrieval. WordNets are being developed for many other languages, as\n",
    "documented at http://www.globalwordnet.org/. For a study of WordNet similarity\n",
    "measures, see (Budanitsky & Hirst, 2006).\n",
    "\n",
    "Other topics touched on in this chapter were phonetics and lexical semantics, and we\n",
    "refer readers to Chapters 7 and 20 of (Jurafsky & Martin, 2008)."
   ]
  },
  {
   "cell_type": "code",
   "execution_count": null,
   "metadata": {},
   "outputs": [],
   "source": []
  }
 ],
 "metadata": {
  "kernelspec": {
   "display_name": "Python 3",
   "language": "python",
   "name": "python3"
  },
  "language_info": {
   "codemirror_mode": {
    "name": "ipython",
    "version": 3
   },
   "file_extension": ".py",
   "mimetype": "text/x-python",
   "name": "python",
   "nbconvert_exporter": "python",
   "pygments_lexer": "ipython3",
   "version": "3.8.5"
  }
 },
 "nbformat": 4,
 "nbformat_minor": 4
}
